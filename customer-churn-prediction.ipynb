{
 "cells": [
  {
   "cell_type": "code",
   "execution_count": 1,
   "id": "8c405141",
   "metadata": {
    "execution": {
     "iopub.execute_input": "2023-08-26T17:27:14.577186Z",
     "iopub.status.busy": "2023-08-26T17:27:14.575890Z",
     "iopub.status.idle": "2023-08-26T17:27:14.589915Z",
     "shell.execute_reply": "2023-08-26T17:27:14.588938Z"
    },
    "papermill": {
     "duration": 0.040001,
     "end_time": "2023-08-26T17:27:14.592280",
     "exception": false,
     "start_time": "2023-08-26T17:27:14.552279",
     "status": "completed"
    },
    "tags": []
   },
   "outputs": [],
   "source": [
    "import pandas as pd"
   ]
  },
  {
   "cell_type": "code",
   "execution_count": 2,
   "id": "15af8aa8",
   "metadata": {
    "execution": {
     "iopub.execute_input": "2023-08-26T17:27:14.639201Z",
     "iopub.status.busy": "2023-08-26T17:27:14.638297Z",
     "iopub.status.idle": "2023-08-26T17:27:14.691881Z",
     "shell.execute_reply": "2023-08-26T17:27:14.690987Z"
    },
    "papermill": {
     "duration": 0.07895,
     "end_time": "2023-08-26T17:27:14.694365",
     "exception": false,
     "start_time": "2023-08-26T17:27:14.615415",
     "status": "completed"
    },
    "tags": []
   },
   "outputs": [],
   "source": [
    "data=pd.read_csv('/kaggle/input/bank-customer-churn-prediction/Churn_Modelling.csv')"
   ]
  },
  {
   "cell_type": "code",
   "execution_count": 3,
   "id": "258972d2",
   "metadata": {
    "execution": {
     "iopub.execute_input": "2023-08-26T17:27:14.739778Z",
     "iopub.status.busy": "2023-08-26T17:27:14.739027Z",
     "iopub.status.idle": "2023-08-26T17:27:14.765476Z",
     "shell.execute_reply": "2023-08-26T17:27:14.764359Z"
    },
    "papermill": {
     "duration": 0.052223,
     "end_time": "2023-08-26T17:27:14.767967",
     "exception": false,
     "start_time": "2023-08-26T17:27:14.715744",
     "status": "completed"
    },
    "tags": []
   },
   "outputs": [
    {
     "data": {
      "text/html": [
       "<div>\n",
       "<style scoped>\n",
       "    .dataframe tbody tr th:only-of-type {\n",
       "        vertical-align: middle;\n",
       "    }\n",
       "\n",
       "    .dataframe tbody tr th {\n",
       "        vertical-align: top;\n",
       "    }\n",
       "\n",
       "    .dataframe thead th {\n",
       "        text-align: right;\n",
       "    }\n",
       "</style>\n",
       "<table border=\"1\" class=\"dataframe\">\n",
       "  <thead>\n",
       "    <tr style=\"text-align: right;\">\n",
       "      <th></th>\n",
       "      <th>RowNumber</th>\n",
       "      <th>CustomerId</th>\n",
       "      <th>Surname</th>\n",
       "      <th>CreditScore</th>\n",
       "      <th>Geography</th>\n",
       "      <th>Gender</th>\n",
       "      <th>Age</th>\n",
       "      <th>Tenure</th>\n",
       "      <th>Balance</th>\n",
       "      <th>NumOfProducts</th>\n",
       "      <th>HasCrCard</th>\n",
       "      <th>IsActiveMember</th>\n",
       "      <th>EstimatedSalary</th>\n",
       "      <th>Exited</th>\n",
       "    </tr>\n",
       "  </thead>\n",
       "  <tbody>\n",
       "    <tr>\n",
       "      <th>0</th>\n",
       "      <td>1</td>\n",
       "      <td>15634602</td>\n",
       "      <td>Hargrave</td>\n",
       "      <td>619</td>\n",
       "      <td>France</td>\n",
       "      <td>Female</td>\n",
       "      <td>42</td>\n",
       "      <td>2</td>\n",
       "      <td>0.00</td>\n",
       "      <td>1</td>\n",
       "      <td>1</td>\n",
       "      <td>1</td>\n",
       "      <td>101348.88</td>\n",
       "      <td>1</td>\n",
       "    </tr>\n",
       "    <tr>\n",
       "      <th>1</th>\n",
       "      <td>2</td>\n",
       "      <td>15647311</td>\n",
       "      <td>Hill</td>\n",
       "      <td>608</td>\n",
       "      <td>Spain</td>\n",
       "      <td>Female</td>\n",
       "      <td>41</td>\n",
       "      <td>1</td>\n",
       "      <td>83807.86</td>\n",
       "      <td>1</td>\n",
       "      <td>0</td>\n",
       "      <td>1</td>\n",
       "      <td>112542.58</td>\n",
       "      <td>0</td>\n",
       "    </tr>\n",
       "    <tr>\n",
       "      <th>2</th>\n",
       "      <td>3</td>\n",
       "      <td>15619304</td>\n",
       "      <td>Onio</td>\n",
       "      <td>502</td>\n",
       "      <td>France</td>\n",
       "      <td>Female</td>\n",
       "      <td>42</td>\n",
       "      <td>8</td>\n",
       "      <td>159660.80</td>\n",
       "      <td>3</td>\n",
       "      <td>1</td>\n",
       "      <td>0</td>\n",
       "      <td>113931.57</td>\n",
       "      <td>1</td>\n",
       "    </tr>\n",
       "    <tr>\n",
       "      <th>3</th>\n",
       "      <td>4</td>\n",
       "      <td>15701354</td>\n",
       "      <td>Boni</td>\n",
       "      <td>699</td>\n",
       "      <td>France</td>\n",
       "      <td>Female</td>\n",
       "      <td>39</td>\n",
       "      <td>1</td>\n",
       "      <td>0.00</td>\n",
       "      <td>2</td>\n",
       "      <td>0</td>\n",
       "      <td>0</td>\n",
       "      <td>93826.63</td>\n",
       "      <td>0</td>\n",
       "    </tr>\n",
       "    <tr>\n",
       "      <th>4</th>\n",
       "      <td>5</td>\n",
       "      <td>15737888</td>\n",
       "      <td>Mitchell</td>\n",
       "      <td>850</td>\n",
       "      <td>Spain</td>\n",
       "      <td>Female</td>\n",
       "      <td>43</td>\n",
       "      <td>2</td>\n",
       "      <td>125510.82</td>\n",
       "      <td>1</td>\n",
       "      <td>1</td>\n",
       "      <td>1</td>\n",
       "      <td>79084.10</td>\n",
       "      <td>0</td>\n",
       "    </tr>\n",
       "  </tbody>\n",
       "</table>\n",
       "</div>"
      ],
      "text/plain": [
       "   RowNumber  CustomerId   Surname  CreditScore Geography  Gender  Age  \\\n",
       "0          1    15634602  Hargrave          619    France  Female   42   \n",
       "1          2    15647311      Hill          608     Spain  Female   41   \n",
       "2          3    15619304      Onio          502    France  Female   42   \n",
       "3          4    15701354      Boni          699    France  Female   39   \n",
       "4          5    15737888  Mitchell          850     Spain  Female   43   \n",
       "\n",
       "   Tenure    Balance  NumOfProducts  HasCrCard  IsActiveMember  \\\n",
       "0       2       0.00              1          1               1   \n",
       "1       1   83807.86              1          0               1   \n",
       "2       8  159660.80              3          1               0   \n",
       "3       1       0.00              2          0               0   \n",
       "4       2  125510.82              1          1               1   \n",
       "\n",
       "   EstimatedSalary  Exited  \n",
       "0        101348.88       1  \n",
       "1        112542.58       0  \n",
       "2        113931.57       1  \n",
       "3         93826.63       0  \n",
       "4         79084.10       0  "
      ]
     },
     "execution_count": 3,
     "metadata": {},
     "output_type": "execute_result"
    }
   ],
   "source": [
    "# display top 5 rows of the dataset\n",
    "data.head()"
   ]
  },
  {
   "cell_type": "code",
   "execution_count": 4,
   "id": "824fbca2",
   "metadata": {
    "execution": {
     "iopub.execute_input": "2023-08-26T17:27:14.813298Z",
     "iopub.status.busy": "2023-08-26T17:27:14.812878Z",
     "iopub.status.idle": "2023-08-26T17:27:14.829985Z",
     "shell.execute_reply": "2023-08-26T17:27:14.828856Z"
    },
    "papermill": {
     "duration": 0.042371,
     "end_time": "2023-08-26T17:27:14.832306",
     "exception": false,
     "start_time": "2023-08-26T17:27:14.789935",
     "status": "completed"
    },
    "tags": []
   },
   "outputs": [
    {
     "data": {
      "text/html": [
       "<div>\n",
       "<style scoped>\n",
       "    .dataframe tbody tr th:only-of-type {\n",
       "        vertical-align: middle;\n",
       "    }\n",
       "\n",
       "    .dataframe tbody tr th {\n",
       "        vertical-align: top;\n",
       "    }\n",
       "\n",
       "    .dataframe thead th {\n",
       "        text-align: right;\n",
       "    }\n",
       "</style>\n",
       "<table border=\"1\" class=\"dataframe\">\n",
       "  <thead>\n",
       "    <tr style=\"text-align: right;\">\n",
       "      <th></th>\n",
       "      <th>RowNumber</th>\n",
       "      <th>CustomerId</th>\n",
       "      <th>Surname</th>\n",
       "      <th>CreditScore</th>\n",
       "      <th>Geography</th>\n",
       "      <th>Gender</th>\n",
       "      <th>Age</th>\n",
       "      <th>Tenure</th>\n",
       "      <th>Balance</th>\n",
       "      <th>NumOfProducts</th>\n",
       "      <th>HasCrCard</th>\n",
       "      <th>IsActiveMember</th>\n",
       "      <th>EstimatedSalary</th>\n",
       "      <th>Exited</th>\n",
       "    </tr>\n",
       "  </thead>\n",
       "  <tbody>\n",
       "    <tr>\n",
       "      <th>9995</th>\n",
       "      <td>9996</td>\n",
       "      <td>15606229</td>\n",
       "      <td>Obijiaku</td>\n",
       "      <td>771</td>\n",
       "      <td>France</td>\n",
       "      <td>Male</td>\n",
       "      <td>39</td>\n",
       "      <td>5</td>\n",
       "      <td>0.00</td>\n",
       "      <td>2</td>\n",
       "      <td>1</td>\n",
       "      <td>0</td>\n",
       "      <td>96270.64</td>\n",
       "      <td>0</td>\n",
       "    </tr>\n",
       "    <tr>\n",
       "      <th>9996</th>\n",
       "      <td>9997</td>\n",
       "      <td>15569892</td>\n",
       "      <td>Johnstone</td>\n",
       "      <td>516</td>\n",
       "      <td>France</td>\n",
       "      <td>Male</td>\n",
       "      <td>35</td>\n",
       "      <td>10</td>\n",
       "      <td>57369.61</td>\n",
       "      <td>1</td>\n",
       "      <td>1</td>\n",
       "      <td>1</td>\n",
       "      <td>101699.77</td>\n",
       "      <td>0</td>\n",
       "    </tr>\n",
       "    <tr>\n",
       "      <th>9997</th>\n",
       "      <td>9998</td>\n",
       "      <td>15584532</td>\n",
       "      <td>Liu</td>\n",
       "      <td>709</td>\n",
       "      <td>France</td>\n",
       "      <td>Female</td>\n",
       "      <td>36</td>\n",
       "      <td>7</td>\n",
       "      <td>0.00</td>\n",
       "      <td>1</td>\n",
       "      <td>0</td>\n",
       "      <td>1</td>\n",
       "      <td>42085.58</td>\n",
       "      <td>1</td>\n",
       "    </tr>\n",
       "    <tr>\n",
       "      <th>9998</th>\n",
       "      <td>9999</td>\n",
       "      <td>15682355</td>\n",
       "      <td>Sabbatini</td>\n",
       "      <td>772</td>\n",
       "      <td>Germany</td>\n",
       "      <td>Male</td>\n",
       "      <td>42</td>\n",
       "      <td>3</td>\n",
       "      <td>75075.31</td>\n",
       "      <td>2</td>\n",
       "      <td>1</td>\n",
       "      <td>0</td>\n",
       "      <td>92888.52</td>\n",
       "      <td>1</td>\n",
       "    </tr>\n",
       "    <tr>\n",
       "      <th>9999</th>\n",
       "      <td>10000</td>\n",
       "      <td>15628319</td>\n",
       "      <td>Walker</td>\n",
       "      <td>792</td>\n",
       "      <td>France</td>\n",
       "      <td>Female</td>\n",
       "      <td>28</td>\n",
       "      <td>4</td>\n",
       "      <td>130142.79</td>\n",
       "      <td>1</td>\n",
       "      <td>1</td>\n",
       "      <td>0</td>\n",
       "      <td>38190.78</td>\n",
       "      <td>0</td>\n",
       "    </tr>\n",
       "  </tbody>\n",
       "</table>\n",
       "</div>"
      ],
      "text/plain": [
       "      RowNumber  CustomerId    Surname  CreditScore Geography  Gender  Age  \\\n",
       "9995       9996    15606229   Obijiaku          771    France    Male   39   \n",
       "9996       9997    15569892  Johnstone          516    France    Male   35   \n",
       "9997       9998    15584532        Liu          709    France  Female   36   \n",
       "9998       9999    15682355  Sabbatini          772   Germany    Male   42   \n",
       "9999      10000    15628319     Walker          792    France  Female   28   \n",
       "\n",
       "      Tenure    Balance  NumOfProducts  HasCrCard  IsActiveMember  \\\n",
       "9995       5       0.00              2          1               0   \n",
       "9996      10   57369.61              1          1               1   \n",
       "9997       7       0.00              1          0               1   \n",
       "9998       3   75075.31              2          1               0   \n",
       "9999       4  130142.79              1          1               0   \n",
       "\n",
       "      EstimatedSalary  Exited  \n",
       "9995         96270.64       0  \n",
       "9996        101699.77       0  \n",
       "9997         42085.58       1  \n",
       "9998         92888.52       1  \n",
       "9999         38190.78       0  "
      ]
     },
     "execution_count": 4,
     "metadata": {},
     "output_type": "execute_result"
    }
   ],
   "source": [
    "# display bottom 5 rows \n",
    "data.tail()"
   ]
  },
  {
   "cell_type": "code",
   "execution_count": 5,
   "id": "5e4602d4",
   "metadata": {
    "execution": {
     "iopub.execute_input": "2023-08-26T17:27:14.878087Z",
     "iopub.status.busy": "2023-08-26T17:27:14.877623Z",
     "iopub.status.idle": "2023-08-26T17:27:14.883746Z",
     "shell.execute_reply": "2023-08-26T17:27:14.882984Z"
    },
    "papermill": {
     "duration": 0.031578,
     "end_time": "2023-08-26T17:27:14.885899",
     "exception": false,
     "start_time": "2023-08-26T17:27:14.854321",
     "status": "completed"
    },
    "tags": []
   },
   "outputs": [
    {
     "data": {
      "text/plain": [
       "(10000, 14)"
      ]
     },
     "execution_count": 5,
     "metadata": {},
     "output_type": "execute_result"
    }
   ],
   "source": [
    "# find shape of dataset\n",
    "data.shape"
   ]
  },
  {
   "cell_type": "code",
   "execution_count": 6,
   "id": "1fb7a287",
   "metadata": {
    "execution": {
     "iopub.execute_input": "2023-08-26T17:27:14.932376Z",
     "iopub.status.busy": "2023-08-26T17:27:14.931519Z",
     "iopub.status.idle": "2023-08-26T17:27:14.937730Z",
     "shell.execute_reply": "2023-08-26T17:27:14.936957Z"
    },
    "papermill": {
     "duration": 0.031777,
     "end_time": "2023-08-26T17:27:14.939801",
     "exception": false,
     "start_time": "2023-08-26T17:27:14.908024",
     "status": "completed"
    },
    "tags": []
   },
   "outputs": [
    {
     "name": "stdout",
     "output_type": "stream",
     "text": [
      "Number of Rows: 10000\n",
      "Number of Columns: 14\n"
     ]
    }
   ],
   "source": [
    "print('Number of Rows:',data.shape[0])\n",
    "print('Number of Columns:',data.shape[1])"
   ]
  },
  {
   "cell_type": "code",
   "execution_count": 7,
   "id": "c7ed08aa",
   "metadata": {
    "execution": {
     "iopub.execute_input": "2023-08-26T17:27:14.986736Z",
     "iopub.status.busy": "2023-08-26T17:27:14.985704Z",
     "iopub.status.idle": "2023-08-26T17:27:15.020107Z",
     "shell.execute_reply": "2023-08-26T17:27:15.018718Z"
    },
    "papermill": {
     "duration": 0.060414,
     "end_time": "2023-08-26T17:27:15.022416",
     "exception": false,
     "start_time": "2023-08-26T17:27:14.962002",
     "status": "completed"
    },
    "tags": []
   },
   "outputs": [
    {
     "name": "stdout",
     "output_type": "stream",
     "text": [
      "<class 'pandas.core.frame.DataFrame'>\n",
      "RangeIndex: 10000 entries, 0 to 9999\n",
      "Data columns (total 14 columns):\n",
      " #   Column           Non-Null Count  Dtype  \n",
      "---  ------           --------------  -----  \n",
      " 0   RowNumber        10000 non-null  int64  \n",
      " 1   CustomerId       10000 non-null  int64  \n",
      " 2   Surname          10000 non-null  object \n",
      " 3   CreditScore      10000 non-null  int64  \n",
      " 4   Geography        10000 non-null  object \n",
      " 5   Gender           10000 non-null  object \n",
      " 6   Age              10000 non-null  int64  \n",
      " 7   Tenure           10000 non-null  int64  \n",
      " 8   Balance          10000 non-null  float64\n",
      " 9   NumOfProducts    10000 non-null  int64  \n",
      " 10  HasCrCard        10000 non-null  int64  \n",
      " 11  IsActiveMember   10000 non-null  int64  \n",
      " 12  EstimatedSalary  10000 non-null  float64\n",
      " 13  Exited           10000 non-null  int64  \n",
      "dtypes: float64(2), int64(9), object(3)\n",
      "memory usage: 1.1+ MB\n"
     ]
    }
   ],
   "source": [
    "# get information about dataset \n",
    "data.info()"
   ]
  },
  {
   "cell_type": "code",
   "execution_count": 8,
   "id": "58cb3ffc",
   "metadata": {
    "execution": {
     "iopub.execute_input": "2023-08-26T17:27:15.071031Z",
     "iopub.status.busy": "2023-08-26T17:27:15.070134Z",
     "iopub.status.idle": "2023-08-26T17:27:15.090507Z",
     "shell.execute_reply": "2023-08-26T17:27:15.089263Z"
    },
    "papermill": {
     "duration": 0.048186,
     "end_time": "2023-08-26T17:27:15.093165",
     "exception": false,
     "start_time": "2023-08-26T17:27:15.044979",
     "status": "completed"
    },
    "tags": []
   },
   "outputs": [
    {
     "data": {
      "text/plain": [
       "RowNumber          0\n",
       "CustomerId         0\n",
       "Surname            0\n",
       "CreditScore        0\n",
       "Geography          0\n",
       "Gender             0\n",
       "Age                0\n",
       "Tenure             0\n",
       "Balance            0\n",
       "NumOfProducts      0\n",
       "HasCrCard          0\n",
       "IsActiveMember     0\n",
       "EstimatedSalary    0\n",
       "Exited             0\n",
       "dtype: int64"
      ]
     },
     "execution_count": 8,
     "metadata": {},
     "output_type": "execute_result"
    }
   ],
   "source": [
    "# check null values\n",
    "data.isnull().sum()"
   ]
  },
  {
   "cell_type": "code",
   "execution_count": 9,
   "id": "15643a25",
   "metadata": {
    "execution": {
     "iopub.execute_input": "2023-08-26T17:27:15.140477Z",
     "iopub.status.busy": "2023-08-26T17:27:15.140092Z",
     "iopub.status.idle": "2023-08-26T17:27:15.192568Z",
     "shell.execute_reply": "2023-08-26T17:27:15.191519Z"
    },
    "papermill": {
     "duration": 0.07944,
     "end_time": "2023-08-26T17:27:15.195334",
     "exception": false,
     "start_time": "2023-08-26T17:27:15.115894",
     "status": "completed"
    },
    "tags": []
   },
   "outputs": [
    {
     "data": {
      "text/html": [
       "<div>\n",
       "<style scoped>\n",
       "    .dataframe tbody tr th:only-of-type {\n",
       "        vertical-align: middle;\n",
       "    }\n",
       "\n",
       "    .dataframe tbody tr th {\n",
       "        vertical-align: top;\n",
       "    }\n",
       "\n",
       "    .dataframe thead th {\n",
       "        text-align: right;\n",
       "    }\n",
       "</style>\n",
       "<table border=\"1\" class=\"dataframe\">\n",
       "  <thead>\n",
       "    <tr style=\"text-align: right;\">\n",
       "      <th></th>\n",
       "      <th>RowNumber</th>\n",
       "      <th>CustomerId</th>\n",
       "      <th>CreditScore</th>\n",
       "      <th>Age</th>\n",
       "      <th>Tenure</th>\n",
       "      <th>Balance</th>\n",
       "      <th>NumOfProducts</th>\n",
       "      <th>HasCrCard</th>\n",
       "      <th>IsActiveMember</th>\n",
       "      <th>EstimatedSalary</th>\n",
       "      <th>Exited</th>\n",
       "    </tr>\n",
       "  </thead>\n",
       "  <tbody>\n",
       "    <tr>\n",
       "      <th>count</th>\n",
       "      <td>10000.00000</td>\n",
       "      <td>1.000000e+04</td>\n",
       "      <td>10000.000000</td>\n",
       "      <td>10000.000000</td>\n",
       "      <td>10000.000000</td>\n",
       "      <td>10000.000000</td>\n",
       "      <td>10000.000000</td>\n",
       "      <td>10000.00000</td>\n",
       "      <td>10000.000000</td>\n",
       "      <td>10000.000000</td>\n",
       "      <td>10000.000000</td>\n",
       "    </tr>\n",
       "    <tr>\n",
       "      <th>mean</th>\n",
       "      <td>5000.50000</td>\n",
       "      <td>1.569094e+07</td>\n",
       "      <td>650.528800</td>\n",
       "      <td>38.921800</td>\n",
       "      <td>5.012800</td>\n",
       "      <td>76485.889288</td>\n",
       "      <td>1.530200</td>\n",
       "      <td>0.70550</td>\n",
       "      <td>0.515100</td>\n",
       "      <td>100090.239881</td>\n",
       "      <td>0.203700</td>\n",
       "    </tr>\n",
       "    <tr>\n",
       "      <th>std</th>\n",
       "      <td>2886.89568</td>\n",
       "      <td>7.193619e+04</td>\n",
       "      <td>96.653299</td>\n",
       "      <td>10.487806</td>\n",
       "      <td>2.892174</td>\n",
       "      <td>62397.405202</td>\n",
       "      <td>0.581654</td>\n",
       "      <td>0.45584</td>\n",
       "      <td>0.499797</td>\n",
       "      <td>57510.492818</td>\n",
       "      <td>0.402769</td>\n",
       "    </tr>\n",
       "    <tr>\n",
       "      <th>min</th>\n",
       "      <td>1.00000</td>\n",
       "      <td>1.556570e+07</td>\n",
       "      <td>350.000000</td>\n",
       "      <td>18.000000</td>\n",
       "      <td>0.000000</td>\n",
       "      <td>0.000000</td>\n",
       "      <td>1.000000</td>\n",
       "      <td>0.00000</td>\n",
       "      <td>0.000000</td>\n",
       "      <td>11.580000</td>\n",
       "      <td>0.000000</td>\n",
       "    </tr>\n",
       "    <tr>\n",
       "      <th>25%</th>\n",
       "      <td>2500.75000</td>\n",
       "      <td>1.562853e+07</td>\n",
       "      <td>584.000000</td>\n",
       "      <td>32.000000</td>\n",
       "      <td>3.000000</td>\n",
       "      <td>0.000000</td>\n",
       "      <td>1.000000</td>\n",
       "      <td>0.00000</td>\n",
       "      <td>0.000000</td>\n",
       "      <td>51002.110000</td>\n",
       "      <td>0.000000</td>\n",
       "    </tr>\n",
       "    <tr>\n",
       "      <th>50%</th>\n",
       "      <td>5000.50000</td>\n",
       "      <td>1.569074e+07</td>\n",
       "      <td>652.000000</td>\n",
       "      <td>37.000000</td>\n",
       "      <td>5.000000</td>\n",
       "      <td>97198.540000</td>\n",
       "      <td>1.000000</td>\n",
       "      <td>1.00000</td>\n",
       "      <td>1.000000</td>\n",
       "      <td>100193.915000</td>\n",
       "      <td>0.000000</td>\n",
       "    </tr>\n",
       "    <tr>\n",
       "      <th>75%</th>\n",
       "      <td>7500.25000</td>\n",
       "      <td>1.575323e+07</td>\n",
       "      <td>718.000000</td>\n",
       "      <td>44.000000</td>\n",
       "      <td>7.000000</td>\n",
       "      <td>127644.240000</td>\n",
       "      <td>2.000000</td>\n",
       "      <td>1.00000</td>\n",
       "      <td>1.000000</td>\n",
       "      <td>149388.247500</td>\n",
       "      <td>0.000000</td>\n",
       "    </tr>\n",
       "    <tr>\n",
       "      <th>max</th>\n",
       "      <td>10000.00000</td>\n",
       "      <td>1.581569e+07</td>\n",
       "      <td>850.000000</td>\n",
       "      <td>92.000000</td>\n",
       "      <td>10.000000</td>\n",
       "      <td>250898.090000</td>\n",
       "      <td>4.000000</td>\n",
       "      <td>1.00000</td>\n",
       "      <td>1.000000</td>\n",
       "      <td>199992.480000</td>\n",
       "      <td>1.000000</td>\n",
       "    </tr>\n",
       "  </tbody>\n",
       "</table>\n",
       "</div>"
      ],
      "text/plain": [
       "         RowNumber    CustomerId   CreditScore           Age        Tenure  \\\n",
       "count  10000.00000  1.000000e+04  10000.000000  10000.000000  10000.000000   \n",
       "mean    5000.50000  1.569094e+07    650.528800     38.921800      5.012800   \n",
       "std     2886.89568  7.193619e+04     96.653299     10.487806      2.892174   \n",
       "min        1.00000  1.556570e+07    350.000000     18.000000      0.000000   \n",
       "25%     2500.75000  1.562853e+07    584.000000     32.000000      3.000000   \n",
       "50%     5000.50000  1.569074e+07    652.000000     37.000000      5.000000   \n",
       "75%     7500.25000  1.575323e+07    718.000000     44.000000      7.000000   \n",
       "max    10000.00000  1.581569e+07    850.000000     92.000000     10.000000   \n",
       "\n",
       "             Balance  NumOfProducts    HasCrCard  IsActiveMember  \\\n",
       "count   10000.000000   10000.000000  10000.00000    10000.000000   \n",
       "mean    76485.889288       1.530200      0.70550        0.515100   \n",
       "std     62397.405202       0.581654      0.45584        0.499797   \n",
       "min         0.000000       1.000000      0.00000        0.000000   \n",
       "25%         0.000000       1.000000      0.00000        0.000000   \n",
       "50%     97198.540000       1.000000      1.00000        1.000000   \n",
       "75%    127644.240000       2.000000      1.00000        1.000000   \n",
       "max    250898.090000       4.000000      1.00000        1.000000   \n",
       "\n",
       "       EstimatedSalary        Exited  \n",
       "count     10000.000000  10000.000000  \n",
       "mean     100090.239881      0.203700  \n",
       "std       57510.492818      0.402769  \n",
       "min          11.580000      0.000000  \n",
       "25%       51002.110000      0.000000  \n",
       "50%      100193.915000      0.000000  \n",
       "75%      149388.247500      0.000000  \n",
       "max      199992.480000      1.000000  "
      ]
     },
     "execution_count": 9,
     "metadata": {},
     "output_type": "execute_result"
    }
   ],
   "source": [
    "# get overall statistics about the dataset\n",
    "data.describe()"
   ]
  },
  {
   "cell_type": "code",
   "execution_count": 10,
   "id": "dc5db9a6",
   "metadata": {
    "execution": {
     "iopub.execute_input": "2023-08-26T17:27:15.244389Z",
     "iopub.status.busy": "2023-08-26T17:27:15.243581Z",
     "iopub.status.idle": "2023-08-26T17:27:15.251361Z",
     "shell.execute_reply": "2023-08-26T17:27:15.250182Z"
    },
    "papermill": {
     "duration": 0.034693,
     "end_time": "2023-08-26T17:27:15.253512",
     "exception": false,
     "start_time": "2023-08-26T17:27:15.218819",
     "status": "completed"
    },
    "tags": []
   },
   "outputs": [
    {
     "data": {
      "text/plain": [
       "Index(['RowNumber', 'CustomerId', 'Surname', 'CreditScore', 'Geography',\n",
       "       'Gender', 'Age', 'Tenure', 'Balance', 'NumOfProducts', 'HasCrCard',\n",
       "       'IsActiveMember', 'EstimatedSalary', 'Exited'],\n",
       "      dtype='object')"
      ]
     },
     "execution_count": 10,
     "metadata": {},
     "output_type": "execute_result"
    }
   ],
   "source": [
    "# dropping irrelevant features\n",
    "data.columns"
   ]
  },
  {
   "cell_type": "code",
   "execution_count": 11,
   "id": "80301bae",
   "metadata": {
    "execution": {
     "iopub.execute_input": "2023-08-26T17:27:15.301746Z",
     "iopub.status.busy": "2023-08-26T17:27:15.301303Z",
     "iopub.status.idle": "2023-08-26T17:27:15.327746Z",
     "shell.execute_reply": "2023-08-26T17:27:15.326676Z"
    },
    "papermill": {
     "duration": 0.053491,
     "end_time": "2023-08-26T17:27:15.330197",
     "exception": false,
     "start_time": "2023-08-26T17:27:15.276706",
     "status": "completed"
    },
    "tags": []
   },
   "outputs": [
    {
     "data": {
      "text/html": [
       "<div>\n",
       "<style scoped>\n",
       "    .dataframe tbody tr th:only-of-type {\n",
       "        vertical-align: middle;\n",
       "    }\n",
       "\n",
       "    .dataframe tbody tr th {\n",
       "        vertical-align: top;\n",
       "    }\n",
       "\n",
       "    .dataframe thead th {\n",
       "        text-align: right;\n",
       "    }\n",
       "</style>\n",
       "<table border=\"1\" class=\"dataframe\">\n",
       "  <thead>\n",
       "    <tr style=\"text-align: right;\">\n",
       "      <th></th>\n",
       "      <th>CreditScore</th>\n",
       "      <th>Geography</th>\n",
       "      <th>Gender</th>\n",
       "      <th>Age</th>\n",
       "      <th>Tenure</th>\n",
       "      <th>Balance</th>\n",
       "      <th>NumOfProducts</th>\n",
       "      <th>HasCrCard</th>\n",
       "      <th>IsActiveMember</th>\n",
       "      <th>EstimatedSalary</th>\n",
       "      <th>Exited</th>\n",
       "    </tr>\n",
       "  </thead>\n",
       "  <tbody>\n",
       "    <tr>\n",
       "      <th>0</th>\n",
       "      <td>619</td>\n",
       "      <td>France</td>\n",
       "      <td>Female</td>\n",
       "      <td>42</td>\n",
       "      <td>2</td>\n",
       "      <td>0.00</td>\n",
       "      <td>1</td>\n",
       "      <td>1</td>\n",
       "      <td>1</td>\n",
       "      <td>101348.88</td>\n",
       "      <td>1</td>\n",
       "    </tr>\n",
       "    <tr>\n",
       "      <th>1</th>\n",
       "      <td>608</td>\n",
       "      <td>Spain</td>\n",
       "      <td>Female</td>\n",
       "      <td>41</td>\n",
       "      <td>1</td>\n",
       "      <td>83807.86</td>\n",
       "      <td>1</td>\n",
       "      <td>0</td>\n",
       "      <td>1</td>\n",
       "      <td>112542.58</td>\n",
       "      <td>0</td>\n",
       "    </tr>\n",
       "    <tr>\n",
       "      <th>2</th>\n",
       "      <td>502</td>\n",
       "      <td>France</td>\n",
       "      <td>Female</td>\n",
       "      <td>42</td>\n",
       "      <td>8</td>\n",
       "      <td>159660.80</td>\n",
       "      <td>3</td>\n",
       "      <td>1</td>\n",
       "      <td>0</td>\n",
       "      <td>113931.57</td>\n",
       "      <td>1</td>\n",
       "    </tr>\n",
       "    <tr>\n",
       "      <th>3</th>\n",
       "      <td>699</td>\n",
       "      <td>France</td>\n",
       "      <td>Female</td>\n",
       "      <td>39</td>\n",
       "      <td>1</td>\n",
       "      <td>0.00</td>\n",
       "      <td>2</td>\n",
       "      <td>0</td>\n",
       "      <td>0</td>\n",
       "      <td>93826.63</td>\n",
       "      <td>0</td>\n",
       "    </tr>\n",
       "    <tr>\n",
       "      <th>4</th>\n",
       "      <td>850</td>\n",
       "      <td>Spain</td>\n",
       "      <td>Female</td>\n",
       "      <td>43</td>\n",
       "      <td>2</td>\n",
       "      <td>125510.82</td>\n",
       "      <td>1</td>\n",
       "      <td>1</td>\n",
       "      <td>1</td>\n",
       "      <td>79084.10</td>\n",
       "      <td>0</td>\n",
       "    </tr>\n",
       "    <tr>\n",
       "      <th>...</th>\n",
       "      <td>...</td>\n",
       "      <td>...</td>\n",
       "      <td>...</td>\n",
       "      <td>...</td>\n",
       "      <td>...</td>\n",
       "      <td>...</td>\n",
       "      <td>...</td>\n",
       "      <td>...</td>\n",
       "      <td>...</td>\n",
       "      <td>...</td>\n",
       "      <td>...</td>\n",
       "    </tr>\n",
       "    <tr>\n",
       "      <th>9995</th>\n",
       "      <td>771</td>\n",
       "      <td>France</td>\n",
       "      <td>Male</td>\n",
       "      <td>39</td>\n",
       "      <td>5</td>\n",
       "      <td>0.00</td>\n",
       "      <td>2</td>\n",
       "      <td>1</td>\n",
       "      <td>0</td>\n",
       "      <td>96270.64</td>\n",
       "      <td>0</td>\n",
       "    </tr>\n",
       "    <tr>\n",
       "      <th>9996</th>\n",
       "      <td>516</td>\n",
       "      <td>France</td>\n",
       "      <td>Male</td>\n",
       "      <td>35</td>\n",
       "      <td>10</td>\n",
       "      <td>57369.61</td>\n",
       "      <td>1</td>\n",
       "      <td>1</td>\n",
       "      <td>1</td>\n",
       "      <td>101699.77</td>\n",
       "      <td>0</td>\n",
       "    </tr>\n",
       "    <tr>\n",
       "      <th>9997</th>\n",
       "      <td>709</td>\n",
       "      <td>France</td>\n",
       "      <td>Female</td>\n",
       "      <td>36</td>\n",
       "      <td>7</td>\n",
       "      <td>0.00</td>\n",
       "      <td>1</td>\n",
       "      <td>0</td>\n",
       "      <td>1</td>\n",
       "      <td>42085.58</td>\n",
       "      <td>1</td>\n",
       "    </tr>\n",
       "    <tr>\n",
       "      <th>9998</th>\n",
       "      <td>772</td>\n",
       "      <td>Germany</td>\n",
       "      <td>Male</td>\n",
       "      <td>42</td>\n",
       "      <td>3</td>\n",
       "      <td>75075.31</td>\n",
       "      <td>2</td>\n",
       "      <td>1</td>\n",
       "      <td>0</td>\n",
       "      <td>92888.52</td>\n",
       "      <td>1</td>\n",
       "    </tr>\n",
       "    <tr>\n",
       "      <th>9999</th>\n",
       "      <td>792</td>\n",
       "      <td>France</td>\n",
       "      <td>Female</td>\n",
       "      <td>28</td>\n",
       "      <td>4</td>\n",
       "      <td>130142.79</td>\n",
       "      <td>1</td>\n",
       "      <td>1</td>\n",
       "      <td>0</td>\n",
       "      <td>38190.78</td>\n",
       "      <td>0</td>\n",
       "    </tr>\n",
       "  </tbody>\n",
       "</table>\n",
       "<p>10000 rows × 11 columns</p>\n",
       "</div>"
      ],
      "text/plain": [
       "      CreditScore Geography  Gender  Age  Tenure    Balance  NumOfProducts  \\\n",
       "0             619    France  Female   42       2       0.00              1   \n",
       "1             608     Spain  Female   41       1   83807.86              1   \n",
       "2             502    France  Female   42       8  159660.80              3   \n",
       "3             699    France  Female   39       1       0.00              2   \n",
       "4             850     Spain  Female   43       2  125510.82              1   \n",
       "...           ...       ...     ...  ...     ...        ...            ...   \n",
       "9995          771    France    Male   39       5       0.00              2   \n",
       "9996          516    France    Male   35      10   57369.61              1   \n",
       "9997          709    France  Female   36       7       0.00              1   \n",
       "9998          772   Germany    Male   42       3   75075.31              2   \n",
       "9999          792    France  Female   28       4  130142.79              1   \n",
       "\n",
       "      HasCrCard  IsActiveMember  EstimatedSalary  Exited  \n",
       "0             1               1        101348.88       1  \n",
       "1             0               1        112542.58       0  \n",
       "2             1               0        113931.57       1  \n",
       "3             0               0         93826.63       0  \n",
       "4             1               1         79084.10       0  \n",
       "...         ...             ...              ...     ...  \n",
       "9995          1               0         96270.64       0  \n",
       "9996          1               1        101699.77       0  \n",
       "9997          0               1         42085.58       1  \n",
       "9998          1               0         92888.52       1  \n",
       "9999          1               0         38190.78       0  \n",
       "\n",
       "[10000 rows x 11 columns]"
      ]
     },
     "execution_count": 11,
     "metadata": {},
     "output_type": "execute_result"
    }
   ],
   "source": [
    "data=data.drop(['RowNumber', 'CustomerId', 'Surname'],axis=1)\n",
    "data"
   ]
  },
  {
   "cell_type": "code",
   "execution_count": 12,
   "id": "a5223d1a",
   "metadata": {
    "execution": {
     "iopub.execute_input": "2023-08-26T17:27:15.380188Z",
     "iopub.status.busy": "2023-08-26T17:27:15.379332Z",
     "iopub.status.idle": "2023-08-26T17:27:15.387544Z",
     "shell.execute_reply": "2023-08-26T17:27:15.386584Z"
    },
    "papermill": {
     "duration": 0.035646,
     "end_time": "2023-08-26T17:27:15.389672",
     "exception": false,
     "start_time": "2023-08-26T17:27:15.354026",
     "status": "completed"
    },
    "tags": []
   },
   "outputs": [
    {
     "data": {
      "text/plain": [
       "array(['France', 'Spain', 'Germany'], dtype=object)"
      ]
     },
     "execution_count": 12,
     "metadata": {},
     "output_type": "execute_result"
    }
   ],
   "source": [
    "# encoding categorical data\n",
    "data['Geography'].unique()"
   ]
  },
  {
   "cell_type": "code",
   "execution_count": 13,
   "id": "72c97ae7",
   "metadata": {
    "execution": {
     "iopub.execute_input": "2023-08-26T17:27:15.439836Z",
     "iopub.status.busy": "2023-08-26T17:27:15.439153Z",
     "iopub.status.idle": "2023-08-26T17:27:15.451579Z",
     "shell.execute_reply": "2023-08-26T17:27:15.450769Z"
    },
    "papermill": {
     "duration": 0.040626,
     "end_time": "2023-08-26T17:27:15.454051",
     "exception": false,
     "start_time": "2023-08-26T17:27:15.413425",
     "status": "completed"
    },
    "tags": []
   },
   "outputs": [],
   "source": [
    "data=pd.get_dummies(data,drop_first=True)"
   ]
  },
  {
   "cell_type": "code",
   "execution_count": 14,
   "id": "2f38e8fd",
   "metadata": {
    "execution": {
     "iopub.execute_input": "2023-08-26T17:27:15.504395Z",
     "iopub.status.busy": "2023-08-26T17:27:15.503961Z",
     "iopub.status.idle": "2023-08-26T17:27:15.521842Z",
     "shell.execute_reply": "2023-08-26T17:27:15.520239Z"
    },
    "papermill": {
     "duration": 0.045588,
     "end_time": "2023-08-26T17:27:15.524210",
     "exception": false,
     "start_time": "2023-08-26T17:27:15.478622",
     "status": "completed"
    },
    "tags": []
   },
   "outputs": [
    {
     "data": {
      "text/html": [
       "<div>\n",
       "<style scoped>\n",
       "    .dataframe tbody tr th:only-of-type {\n",
       "        vertical-align: middle;\n",
       "    }\n",
       "\n",
       "    .dataframe tbody tr th {\n",
       "        vertical-align: top;\n",
       "    }\n",
       "\n",
       "    .dataframe thead th {\n",
       "        text-align: right;\n",
       "    }\n",
       "</style>\n",
       "<table border=\"1\" class=\"dataframe\">\n",
       "  <thead>\n",
       "    <tr style=\"text-align: right;\">\n",
       "      <th></th>\n",
       "      <th>CreditScore</th>\n",
       "      <th>Age</th>\n",
       "      <th>Tenure</th>\n",
       "      <th>Balance</th>\n",
       "      <th>NumOfProducts</th>\n",
       "      <th>HasCrCard</th>\n",
       "      <th>IsActiveMember</th>\n",
       "      <th>EstimatedSalary</th>\n",
       "      <th>Exited</th>\n",
       "      <th>Geography_Germany</th>\n",
       "      <th>Geography_Spain</th>\n",
       "      <th>Gender_Male</th>\n",
       "    </tr>\n",
       "  </thead>\n",
       "  <tbody>\n",
       "    <tr>\n",
       "      <th>0</th>\n",
       "      <td>619</td>\n",
       "      <td>42</td>\n",
       "      <td>2</td>\n",
       "      <td>0.00</td>\n",
       "      <td>1</td>\n",
       "      <td>1</td>\n",
       "      <td>1</td>\n",
       "      <td>101348.88</td>\n",
       "      <td>1</td>\n",
       "      <td>0</td>\n",
       "      <td>0</td>\n",
       "      <td>0</td>\n",
       "    </tr>\n",
       "    <tr>\n",
       "      <th>1</th>\n",
       "      <td>608</td>\n",
       "      <td>41</td>\n",
       "      <td>1</td>\n",
       "      <td>83807.86</td>\n",
       "      <td>1</td>\n",
       "      <td>0</td>\n",
       "      <td>1</td>\n",
       "      <td>112542.58</td>\n",
       "      <td>0</td>\n",
       "      <td>0</td>\n",
       "      <td>1</td>\n",
       "      <td>0</td>\n",
       "    </tr>\n",
       "    <tr>\n",
       "      <th>2</th>\n",
       "      <td>502</td>\n",
       "      <td>42</td>\n",
       "      <td>8</td>\n",
       "      <td>159660.80</td>\n",
       "      <td>3</td>\n",
       "      <td>1</td>\n",
       "      <td>0</td>\n",
       "      <td>113931.57</td>\n",
       "      <td>1</td>\n",
       "      <td>0</td>\n",
       "      <td>0</td>\n",
       "      <td>0</td>\n",
       "    </tr>\n",
       "    <tr>\n",
       "      <th>3</th>\n",
       "      <td>699</td>\n",
       "      <td>39</td>\n",
       "      <td>1</td>\n",
       "      <td>0.00</td>\n",
       "      <td>2</td>\n",
       "      <td>0</td>\n",
       "      <td>0</td>\n",
       "      <td>93826.63</td>\n",
       "      <td>0</td>\n",
       "      <td>0</td>\n",
       "      <td>0</td>\n",
       "      <td>0</td>\n",
       "    </tr>\n",
       "    <tr>\n",
       "      <th>4</th>\n",
       "      <td>850</td>\n",
       "      <td>43</td>\n",
       "      <td>2</td>\n",
       "      <td>125510.82</td>\n",
       "      <td>1</td>\n",
       "      <td>1</td>\n",
       "      <td>1</td>\n",
       "      <td>79084.10</td>\n",
       "      <td>0</td>\n",
       "      <td>0</td>\n",
       "      <td>1</td>\n",
       "      <td>0</td>\n",
       "    </tr>\n",
       "  </tbody>\n",
       "</table>\n",
       "</div>"
      ],
      "text/plain": [
       "   CreditScore  Age  Tenure    Balance  NumOfProducts  HasCrCard  \\\n",
       "0          619   42       2       0.00              1          1   \n",
       "1          608   41       1   83807.86              1          0   \n",
       "2          502   42       8  159660.80              3          1   \n",
       "3          699   39       1       0.00              2          0   \n",
       "4          850   43       2  125510.82              1          1   \n",
       "\n",
       "   IsActiveMember  EstimatedSalary  Exited  Geography_Germany  \\\n",
       "0               1        101348.88       1                  0   \n",
       "1               1        112542.58       0                  0   \n",
       "2               0        113931.57       1                  0   \n",
       "3               0         93826.63       0                  0   \n",
       "4               1         79084.10       0                  0   \n",
       "\n",
       "   Geography_Spain  Gender_Male  \n",
       "0                0            0  \n",
       "1                1            0  \n",
       "2                0            0  \n",
       "3                0            0  \n",
       "4                1            0  "
      ]
     },
     "execution_count": 14,
     "metadata": {},
     "output_type": "execute_result"
    }
   ],
   "source": [
    "data.head()"
   ]
  },
  {
   "cell_type": "code",
   "execution_count": 15,
   "id": "1fb9e0a4",
   "metadata": {
    "execution": {
     "iopub.execute_input": "2023-08-26T17:27:15.574371Z",
     "iopub.status.busy": "2023-08-26T17:27:15.573937Z",
     "iopub.status.idle": "2023-08-26T17:27:15.581504Z",
     "shell.execute_reply": "2023-08-26T17:27:15.580736Z"
    },
    "papermill": {
     "duration": 0.03542,
     "end_time": "2023-08-26T17:27:15.583920",
     "exception": false,
     "start_time": "2023-08-26T17:27:15.548500",
     "status": "completed"
    },
    "tags": []
   },
   "outputs": [
    {
     "data": {
      "text/plain": [
       "0    7963\n",
       "1    2037\n",
       "Name: Exited, dtype: int64"
      ]
     },
     "execution_count": 15,
     "metadata": {},
     "output_type": "execute_result"
    }
   ],
   "source": [
    "data['Exited'].value_counts()"
   ]
  },
  {
   "cell_type": "code",
   "execution_count": 16,
   "id": "78625d7f",
   "metadata": {
    "execution": {
     "iopub.execute_input": "2023-08-26T17:27:15.635913Z",
     "iopub.status.busy": "2023-08-26T17:27:15.635509Z",
     "iopub.status.idle": "2023-08-26T17:27:17.021902Z",
     "shell.execute_reply": "2023-08-26T17:27:17.020868Z"
    },
    "papermill": {
     "duration": 1.415397,
     "end_time": "2023-08-26T17:27:17.024610",
     "exception": false,
     "start_time": "2023-08-26T17:27:15.609213",
     "status": "completed"
    },
    "tags": []
   },
   "outputs": [
    {
     "name": "stderr",
     "output_type": "stream",
     "text": [
      "/opt/conda/lib/python3.10/site-packages/scipy/__init__.py:146: UserWarning: A NumPy version >=1.16.5 and <1.23.0 is required for this version of SciPy (detected version 1.23.5\n",
      "  warnings.warn(f\"A NumPy version >={np_minversion} and <{np_maxversion}\"\n"
     ]
    }
   ],
   "source": [
    "import seaborn as sns"
   ]
  },
  {
   "cell_type": "code",
   "execution_count": 17,
   "id": "1da3f151",
   "metadata": {
    "execution": {
     "iopub.execute_input": "2023-08-26T17:27:17.077332Z",
     "iopub.status.busy": "2023-08-26T17:27:17.076052Z",
     "iopub.status.idle": "2023-08-26T17:27:17.357210Z",
     "shell.execute_reply": "2023-08-26T17:27:17.356132Z"
    },
    "papermill": {
     "duration": 0.310661,
     "end_time": "2023-08-26T17:27:17.359650",
     "exception": false,
     "start_time": "2023-08-26T17:27:17.048989",
     "status": "completed"
    },
    "tags": []
   },
   "outputs": [
    {
     "data": {
      "text/plain": [
       "<Axes: xlabel='Exited', ylabel='count'>"
      ]
     },
     "execution_count": 17,
     "metadata": {},
     "output_type": "execute_result"
    },
    {
     "data": {
      "image/png": "[encoded data removed]",
      "text/plain": [
       "<Figure size 640x480 with 1 Axes>"
      ]
     },
     "metadata": {},
     "output_type": "display_data"
    }
   ],
   "source": [
    "sns.countplot(x='Exited',data=data)"
   ]
  },
  {
   "cell_type": "code",
   "execution_count": 18,
   "id": "30aa0c66",
   "metadata": {
    "execution": {
     "iopub.execute_input": "2023-08-26T17:27:17.411782Z",
     "iopub.status.busy": "2023-08-26T17:27:17.411355Z",
     "iopub.status.idle": "2023-08-26T17:27:17.417814Z",
     "shell.execute_reply": "2023-08-26T17:27:17.416844Z"
    },
    "papermill": {
     "duration": 0.035192,
     "end_time": "2023-08-26T17:27:17.420053",
     "exception": false,
     "start_time": "2023-08-26T17:27:17.384861",
     "status": "completed"
    },
    "tags": []
   },
   "outputs": [],
   "source": [
    "x=data.drop('Exited',axis=1)\n",
    "y=data['Exited']"
   ]
  },
  {
   "cell_type": "code",
   "execution_count": 19,
   "id": "7cb820d4",
   "metadata": {
    "execution": {
     "iopub.execute_input": "2023-08-26T17:27:17.472392Z",
     "iopub.status.busy": "2023-08-26T17:27:17.471394Z",
     "iopub.status.idle": "2023-08-26T17:27:17.480133Z",
     "shell.execute_reply": "2023-08-26T17:27:17.479241Z"
    },
    "papermill": {
     "duration": 0.037075,
     "end_time": "2023-08-26T17:27:17.482214",
     "exception": false,
     "start_time": "2023-08-26T17:27:17.445139",
     "status": "completed"
    },
    "tags": []
   },
   "outputs": [
    {
     "data": {
      "text/plain": [
       "0       1\n",
       "1       0\n",
       "2       1\n",
       "3       0\n",
       "4       0\n",
       "       ..\n",
       "9995    0\n",
       "9996    0\n",
       "9997    1\n",
       "9998    1\n",
       "9999    0\n",
       "Name: Exited, Length: 10000, dtype: int64"
      ]
     },
     "execution_count": 19,
     "metadata": {},
     "output_type": "execute_result"
    }
   ],
   "source": [
    "y"
   ]
  },
  {
   "cell_type": "code",
   "execution_count": 20,
   "id": "2d75b804",
   "metadata": {
    "execution": {
     "iopub.execute_input": "2023-08-26T17:27:17.534784Z",
     "iopub.status.busy": "2023-08-26T17:27:17.534330Z",
     "iopub.status.idle": "2023-08-26T17:27:17.784921Z",
     "shell.execute_reply": "2023-08-26T17:27:17.783740Z"
    },
    "papermill": {
     "duration": 0.280396,
     "end_time": "2023-08-26T17:27:17.787917",
     "exception": false,
     "start_time": "2023-08-26T17:27:17.507521",
     "status": "completed"
    },
    "tags": []
   },
   "outputs": [],
   "source": [
    "# splitting the dataset into training and test set\n",
    "from sklearn.model_selection import train_test_split\n",
    "x_train,x_test,y_train,y_test=train_test_split(x,y,test_size=.2,random_state=42,stratify=y)"
   ]
  },
  {
   "cell_type": "code",
   "execution_count": 21,
   "id": "ffb49d65",
   "metadata": {
    "execution": {
     "iopub.execute_input": "2023-08-26T17:27:17.840420Z",
     "iopub.status.busy": "2023-08-26T17:27:17.839763Z",
     "iopub.status.idle": "2023-08-26T17:27:17.844845Z",
     "shell.execute_reply": "2023-08-26T17:27:17.843814Z"
    },
    "papermill": {
     "duration": 0.034171,
     "end_time": "2023-08-26T17:27:17.847261",
     "exception": false,
     "start_time": "2023-08-26T17:27:17.813090",
     "status": "completed"
    },
    "tags": []
   },
   "outputs": [],
   "source": [
    "# feature scaling\n",
    "from sklearn.preprocessing import StandardScaler\n",
    " "
   ]
  },
  {
   "cell_type": "code",
   "execution_count": 22,
   "id": "dd107f23",
   "metadata": {
    "execution": {
     "iopub.execute_input": "2023-08-26T17:27:17.899685Z",
     "iopub.status.busy": "2023-08-26T17:27:17.899284Z",
     "iopub.status.idle": "2023-08-26T17:27:17.913412Z",
     "shell.execute_reply": "2023-08-26T17:27:17.911947Z"
    },
    "papermill": {
     "duration": 0.044732,
     "end_time": "2023-08-26T17:27:17.916856",
     "exception": false,
     "start_time": "2023-08-26T17:27:17.872124",
     "status": "completed"
    },
    "tags": []
   },
   "outputs": [],
   "source": [
    "sc=StandardScaler()\n",
    "x_train=sc.fit_transform(x_train)\n",
    "x_test=sc.transform(x_test)"
   ]
  },
  {
   "cell_type": "code",
   "execution_count": 23,
   "id": "14fc2d1f",
   "metadata": {
    "execution": {
     "iopub.execute_input": "2023-08-26T17:27:17.970877Z",
     "iopub.status.busy": "2023-08-26T17:27:17.969630Z",
     "iopub.status.idle": "2023-08-26T17:27:17.978030Z",
     "shell.execute_reply": "2023-08-26T17:27:17.976868Z"
    },
    "papermill": {
     "duration": 0.037631,
     "end_time": "2023-08-26T17:27:17.980556",
     "exception": false,
     "start_time": "2023-08-26T17:27:17.942925",
     "status": "completed"
    },
    "tags": []
   },
   "outputs": [
    {
     "data": {
      "text/plain": [
       "array([[ 1.058568  ,  1.71508648,  0.68472287, ..., -0.57831252,\n",
       "        -0.57773517,  0.90750738],\n",
       "       [ 0.91362605, -0.65993547, -0.6962018 , ...,  1.72916886,\n",
       "        -0.57773517,  0.90750738],\n",
       "       [ 1.07927399, -0.18493108, -1.73189531, ...,  1.72916886,\n",
       "        -0.57773517, -1.10191942],\n",
       "       ...,\n",
       "       [ 0.16821031, -0.18493108,  1.3751852 , ..., -0.57831252,\n",
       "        -0.57773517, -1.10191942],\n",
       "       [ 0.37527024, -0.37493284,  1.02995403, ..., -0.57831252,\n",
       "         1.73089688,  0.90750738],\n",
       "       [ 1.56586482,  1.14508121,  0.68472287, ..., -0.57831252,\n",
       "         1.73089688,  0.90750738]])"
      ]
     },
     "execution_count": 23,
     "metadata": {},
     "output_type": "execute_result"
    }
   ],
   "source": [
    "x_train"
   ]
  },
  {
   "cell_type": "code",
   "execution_count": 24,
   "id": "fe3b5a28",
   "metadata": {
    "execution": {
     "iopub.execute_input": "2023-08-26T17:27:18.033641Z",
     "iopub.status.busy": "2023-08-26T17:27:18.032979Z",
     "iopub.status.idle": "2023-08-26T17:27:18.124389Z",
     "shell.execute_reply": "2023-08-26T17:27:18.123219Z"
    },
    "papermill": {
     "duration": 0.12089,
     "end_time": "2023-08-26T17:27:18.127215",
     "exception": false,
     "start_time": "2023-08-26T17:27:18.006325",
     "status": "completed"
    },
    "tags": []
   },
   "outputs": [],
   "source": [
    "# Logistic Regression\n",
    "from sklearn.linear_model import LogisticRegression\n",
    "log=LogisticRegression()"
   ]
  },
  {
   "cell_type": "code",
   "execution_count": 25,
   "id": "9cbc2731",
   "metadata": {
    "execution": {
     "iopub.execute_input": "2023-08-26T17:27:18.180552Z",
     "iopub.status.busy": "2023-08-26T17:27:18.180158Z",
     "iopub.status.idle": "2023-08-26T17:27:18.223431Z",
     "shell.execute_reply": "2023-08-26T17:27:18.222130Z"
    },
    "papermill": {
     "duration": 0.07473,
     "end_time": "2023-08-26T17:27:18.227677",
     "exception": false,
     "start_time": "2023-08-26T17:27:18.152947",
     "status": "completed"
    },
    "tags": []
   },
   "outputs": [
    {
     "data": {
      "text/html": [
       "<style>#sk-container-id-1 {color: black;background-color: white;}#sk-container-id-1 pre{padding: 0;}#sk-container-id-1 div.sk-toggleable {background-color: white;}#sk-container-id-1 label.sk-toggleable__label {cursor: pointer;display: block;width: 100%;margin-bottom: 0;padding: 0.3em;box-sizing: border-box;text-align: center;}#sk-container-id-1 label.sk-toggleable__label-arrow:before {content: \"▸\";float: left;margin-right: 0.25em;color: #696969;}#sk-container-id-1 label.sk-toggleable__label-arrow:hover:before {color: black;}#sk-container-id-1 div.sk-estimator:hover label.sk-toggleable__label-arrow:before {color: black;}#sk-container-id-1 div.sk-toggleable__content {max-height: 0;max-width: 0;overflow: hidden;text-align: left;background-color: #f0f8ff;}#sk-container-id-1 div.sk-toggleable__content pre {margin: 0.2em;color: black;border-radius: 0.25em;background-color: #f0f8ff;}#sk-container-id-1 input.sk-toggleable__control:checked~div.sk-toggleable__content {max-height: 200px;max-width: 100%;overflow: auto;}#sk-container-id-1 input.sk-toggleable__control:checked~label.sk-toggleable__label-arrow:before {content: \"▾\";}#sk-container-id-1 div.sk-estimator input.sk-toggleable__control:checked~label.sk-toggleable__label {background-color: #d4ebff;}#sk-container-id-1 div.sk-label input.sk-toggleable__control:checked~label.sk-toggleable__label {background-color: #d4ebff;}#sk-container-id-1 input.sk-hidden--visually {border: 0;clip: rect(1px 1px 1px 1px);clip: rect(1px, 1px, 1px, 1px);height: 1px;margin: -1px;overflow: hidden;padding: 0;position: absolute;width: 1px;}#sk-container-id-1 div.sk-estimator {font-family: monospace;background-color: #f0f8ff;border: 1px dotted black;border-radius: 0.25em;box-sizing: border-box;margin-bottom: 0.5em;}#sk-container-id-1 div.sk-estimator:hover {background-color: #d4ebff;}#sk-container-id-1 div.sk-parallel-item::after {content: \"\";width: 100%;border-bottom: 1px solid gray;flex-grow: 1;}#sk-container-id-1 div.sk-label:hover label.sk-toggleable__label {background-color: #d4ebff;}#sk-container-id-1 div.sk-serial::before {content: \"\";position: absolute;border-left: 1px solid gray;box-sizing: border-box;top: 0;bottom: 0;left: 50%;z-index: 0;}#sk-container-id-1 div.sk-serial {display: flex;flex-direction: column;align-items: center;background-color: white;padding-right: 0.2em;padding-left: 0.2em;position: relative;}#sk-container-id-1 div.sk-item {position: relative;z-index: 1;}#sk-container-id-1 div.sk-parallel {display: flex;align-items: stretch;justify-content: center;background-color: white;position: relative;}#sk-container-id-1 div.sk-item::before, #sk-container-id-1 div.sk-parallel-item::before {content: \"\";position: absolute;border-left: 1px solid gray;box-sizing: border-box;top: 0;bottom: 0;left: 50%;z-index: -1;}#sk-container-id-1 div.sk-parallel-item {display: flex;flex-direction: column;z-index: 1;position: relative;background-color: white;}#sk-container-id-1 div.sk-parallel-item:first-child::after {align-self: flex-end;width: 50%;}#sk-container-id-1 div.sk-parallel-item:last-child::after {align-self: flex-start;width: 50%;}#sk-container-id-1 div.sk-parallel-item:only-child::after {width: 0;}#sk-container-id-1 div.sk-dashed-wrapped {border: 1px dashed gray;margin: 0 0.4em 0.5em 0.4em;box-sizing: border-box;padding-bottom: 0.4em;background-color: white;}#sk-container-id-1 div.sk-label label {font-family: monospace;font-weight: bold;display: inline-block;line-height: 1.2em;}#sk-container-id-1 div.sk-label-container {text-align: center;}#sk-container-id-1 div.sk-container {/* jupyter's `normalize.less` sets `[hidden] { display: none; }` but bootstrap.min.css set `[hidden] { display: none !important; }` so we also need the `!important` here to be able to override the default hidden behavior on the sphinx rendered scikit-learn.org. See: https://github.com/scikit-learn/scikit-learn/issues/21755 */display: inline-block !important;position: relative;}#sk-container-id-1 div.sk-text-repr-fallback {display: none;}</style><div id=\"sk-container-id-1\" class=\"sk-top-container\"><div class=\"sk-text-repr-fallback\"><pre>LogisticRegression()</pre><b>In a Jupyter environment, please rerun this cell to show the HTML representation or trust the notebook. <br />On GitHub, the HTML representation is unable to render, please try loading this page with nbviewer.org.</b></div><div class=\"sk-container\" hidden><div class=\"sk-item\"><div class=\"sk-estimator sk-toggleable\"><input class=\"sk-toggleable__control sk-hidden--visually\" id=\"sk-estimator-id-1\" type=\"checkbox\" checked><label for=\"sk-estimator-id-1\" class=\"sk-toggleable__label sk-toggleable__label-arrow\">LogisticRegression</label><div class=\"sk-toggleable__content\"><pre>LogisticRegression()</pre></div></div></div></div></div>"
      ],
      "text/plain": [
       "LogisticRegression()"
      ]
     },
     "execution_count": 25,
     "metadata": {},
     "output_type": "execute_result"
    }
   ],
   "source": [
    "log.fit(x_train,y_train)"
   ]
  },
  {
   "cell_type": "code",
   "execution_count": 26,
   "id": "6d625d6f",
   "metadata": {
    "execution": {
     "iopub.execute_input": "2023-08-26T17:27:18.334211Z",
     "iopub.status.busy": "2023-08-26T17:27:18.333798Z",
     "iopub.status.idle": "2023-08-26T17:27:18.342403Z",
     "shell.execute_reply": "2023-08-26T17:27:18.340943Z"
    },
    "papermill": {
     "duration": 0.061247,
     "end_time": "2023-08-26T17:27:18.346358",
     "exception": false,
     "start_time": "2023-08-26T17:27:18.285111",
     "status": "completed"
    },
    "tags": []
   },
   "outputs": [],
   "source": [
    "y_pred=log.predict(x_test)"
   ]
  },
  {
   "cell_type": "code",
   "execution_count": 27,
   "id": "3daa5415",
   "metadata": {
    "execution": {
     "iopub.execute_input": "2023-08-26T17:27:18.458073Z",
     "iopub.status.busy": "2023-08-26T17:27:18.457356Z",
     "iopub.status.idle": "2023-08-26T17:27:18.467133Z",
     "shell.execute_reply": "2023-08-26T17:27:18.466304Z"
    },
    "papermill": {
     "duration": 0.068426,
     "end_time": "2023-08-26T17:27:18.469442",
     "exception": false,
     "start_time": "2023-08-26T17:27:18.401016",
     "status": "completed"
    },
    "tags": []
   },
   "outputs": [
    {
     "data": {
      "text/plain": [
       "0.808"
      ]
     },
     "execution_count": 27,
     "metadata": {},
     "output_type": "execute_result"
    }
   ],
   "source": [
    "from sklearn.metrics import accuracy_score\n",
    "accuracy_score(y_test,y_pred)"
   ]
  },
  {
   "cell_type": "code",
   "execution_count": 28,
   "id": "8cf66355",
   "metadata": {
    "execution": {
     "iopub.execute_input": "2023-08-26T17:27:18.524581Z",
     "iopub.status.busy": "2023-08-26T17:27:18.523398Z",
     "iopub.status.idle": "2023-08-26T17:27:18.528566Z",
     "shell.execute_reply": "2023-08-26T17:27:18.527683Z"
    },
    "papermill": {
     "duration": 0.03537,
     "end_time": "2023-08-26T17:27:18.530702",
     "exception": false,
     "start_time": "2023-08-26T17:27:18.495332",
     "status": "completed"
    },
    "tags": []
   },
   "outputs": [],
   "source": [
    "from sklearn.metrics import precision_score,recall_score,f1_score"
   ]
  },
  {
   "cell_type": "code",
   "execution_count": 29,
   "id": "bb6d7126",
   "metadata": {
    "execution": {
     "iopub.execute_input": "2023-08-26T17:27:18.584379Z",
     "iopub.status.busy": "2023-08-26T17:27:18.583608Z",
     "iopub.status.idle": "2023-08-26T17:27:18.593808Z",
     "shell.execute_reply": "2023-08-26T17:27:18.592391Z"
    },
    "papermill": {
     "duration": 0.039939,
     "end_time": "2023-08-26T17:27:18.596244",
     "exception": false,
     "start_time": "2023-08-26T17:27:18.556305",
     "status": "completed"
    },
    "tags": []
   },
   "outputs": [
    {
     "data": {
      "text/plain": [
       "0.5891472868217055"
      ]
     },
     "execution_count": 29,
     "metadata": {},
     "output_type": "execute_result"
    }
   ],
   "source": [
    "precision_score(y_test,y_pred)"
   ]
  },
  {
   "cell_type": "code",
   "execution_count": 30,
   "id": "e29287bf",
   "metadata": {
    "execution": {
     "iopub.execute_input": "2023-08-26T17:27:18.649420Z",
     "iopub.status.busy": "2023-08-26T17:27:18.649006Z",
     "iopub.status.idle": "2023-08-26T17:27:18.659691Z",
     "shell.execute_reply": "2023-08-26T17:27:18.658645Z"
    },
    "papermill": {
     "duration": 0.039987,
     "end_time": "2023-08-26T17:27:18.661923",
     "exception": false,
     "start_time": "2023-08-26T17:27:18.621936",
     "status": "completed"
    },
    "tags": []
   },
   "outputs": [
    {
     "data": {
      "text/plain": [
       "0.18673218673218672"
      ]
     },
     "execution_count": 30,
     "metadata": {},
     "output_type": "execute_result"
    }
   ],
   "source": [
    "recall_score(y_test,y_pred)"
   ]
  },
  {
   "cell_type": "code",
   "execution_count": 31,
   "id": "6c8b3023",
   "metadata": {
    "execution": {
     "iopub.execute_input": "2023-08-26T17:27:18.716387Z",
     "iopub.status.busy": "2023-08-26T17:27:18.715982Z",
     "iopub.status.idle": "2023-08-26T17:27:18.726697Z",
     "shell.execute_reply": "2023-08-26T17:27:18.725651Z"
    },
    "papermill": {
     "duration": 0.040932,
     "end_time": "2023-08-26T17:27:18.729085",
     "exception": false,
     "start_time": "2023-08-26T17:27:18.688153",
     "status": "completed"
    },
    "tags": []
   },
   "outputs": [
    {
     "data": {
      "text/plain": [
       "0.2835820895522388"
      ]
     },
     "execution_count": 31,
     "metadata": {},
     "output_type": "execute_result"
    }
   ],
   "source": [
    "f1_score(y_test,y_pred)"
   ]
  },
  {
   "cell_type": "code",
   "execution_count": 32,
   "id": "fe24e0c0",
   "metadata": {
    "execution": {
     "iopub.execute_input": "2023-08-26T17:27:18.784062Z",
     "iopub.status.busy": "2023-08-26T17:27:18.783682Z",
     "iopub.status.idle": "2023-08-26T17:27:19.244059Z",
     "shell.execute_reply": "2023-08-26T17:27:19.243185Z"
    },
    "papermill": {
     "duration": 0.490969,
     "end_time": "2023-08-26T17:27:19.246671",
     "exception": false,
     "start_time": "2023-08-26T17:27:18.755702",
     "status": "completed"
    },
    "tags": []
   },
   "outputs": [],
   "source": [
    "# handling imbalanced data with SMOTE\n",
    "from imblearn.over_sampling import SMOTE"
   ]
  },
  {
   "cell_type": "code",
   "execution_count": 33,
   "id": "8ed803aa",
   "metadata": {
    "execution": {
     "iopub.execute_input": "2023-08-26T17:27:19.301889Z",
     "iopub.status.busy": "2023-08-26T17:27:19.301080Z",
     "iopub.status.idle": "2023-08-26T17:27:19.336880Z",
     "shell.execute_reply": "2023-08-26T17:27:19.335806Z"
    },
    "papermill": {
     "duration": 0.066315,
     "end_time": "2023-08-26T17:27:19.339648",
     "exception": false,
     "start_time": "2023-08-26T17:27:19.273333",
     "status": "completed"
    },
    "tags": []
   },
   "outputs": [],
   "source": [
    "x_res,y_res=SMOTE().fit_resample(x,y)"
   ]
  },
  {
   "cell_type": "code",
   "execution_count": 34,
   "id": "906039c4",
   "metadata": {
    "execution": {
     "iopub.execute_input": "2023-08-26T17:27:19.394568Z",
     "iopub.status.busy": "2023-08-26T17:27:19.394179Z",
     "iopub.status.idle": "2023-08-26T17:27:19.402778Z",
     "shell.execute_reply": "2023-08-26T17:27:19.401638Z"
    },
    "papermill": {
     "duration": 0.038504,
     "end_time": "2023-08-26T17:27:19.404959",
     "exception": false,
     "start_time": "2023-08-26T17:27:19.366455",
     "status": "completed"
    },
    "tags": []
   },
   "outputs": [
    {
     "data": {
      "text/plain": [
       "1    7963\n",
       "0    7963\n",
       "Name: Exited, dtype: int64"
      ]
     },
     "execution_count": 34,
     "metadata": {},
     "output_type": "execute_result"
    }
   ],
   "source": [
    "y_res.value_counts()"
   ]
  },
  {
   "cell_type": "code",
   "execution_count": 35,
   "id": "661551f5",
   "metadata": {
    "execution": {
     "iopub.execute_input": "2023-08-26T17:27:19.459838Z",
     "iopub.status.busy": "2023-08-26T17:27:19.459444Z",
     "iopub.status.idle": "2023-08-26T17:27:19.468353Z",
     "shell.execute_reply": "2023-08-26T17:27:19.467169Z"
    },
    "papermill": {
     "duration": 0.040048,
     "end_time": "2023-08-26T17:27:19.471231",
     "exception": false,
     "start_time": "2023-08-26T17:27:19.431183",
     "status": "completed"
    },
    "tags": []
   },
   "outputs": [],
   "source": [
    "x_train,x_test,y_train,y_test=train_test_split(x_res,y_res,test_size=.2,random_state=42)"
   ]
  },
  {
   "cell_type": "code",
   "execution_count": 36,
   "id": "75701d76",
   "metadata": {
    "execution": {
     "iopub.execute_input": "2023-08-26T17:27:19.526189Z",
     "iopub.status.busy": "2023-08-26T17:27:19.525743Z",
     "iopub.status.idle": "2023-08-26T17:27:19.590051Z",
     "shell.execute_reply": "2023-08-26T17:27:19.588438Z"
    },
    "papermill": {
     "duration": 0.096517,
     "end_time": "2023-08-26T17:27:19.594375",
     "exception": false,
     "start_time": "2023-08-26T17:27:19.497858",
     "status": "completed"
    },
    "tags": []
   },
   "outputs": [
    {
     "data": {
      "text/plain": [
       "0.5612052730696798"
      ]
     },
     "execution_count": 36,
     "metadata": {},
     "output_type": "execute_result"
    }
   ],
   "source": [
    "# feature scaling\n",
    "from sklearn.linear_model import LogisticRegression\n",
    "LR=LogisticRegression()\n",
    "LR.fit(x_train,y_train)\n",
    "y_pred1=LR.predict(x_test)\n",
    "accuracy_score(y_test,y_pred1)"
   ]
  },
  {
   "cell_type": "code",
   "execution_count": 37,
   "id": "aa6fbd5c",
   "metadata": {
    "execution": {
     "iopub.execute_input": "2023-08-26T17:27:19.708129Z",
     "iopub.status.busy": "2023-08-26T17:27:19.707742Z",
     "iopub.status.idle": "2023-08-26T17:27:19.718706Z",
     "shell.execute_reply": "2023-08-26T17:27:19.717752Z"
    },
    "papermill": {
     "duration": 0.068457,
     "end_time": "2023-08-26T17:27:19.720987",
     "exception": false,
     "start_time": "2023-08-26T17:27:19.652530",
     "status": "completed"
    },
    "tags": []
   },
   "outputs": [
    {
     "data": {
      "text/plain": [
       "0.5415549597855228"
      ]
     },
     "execution_count": 37,
     "metadata": {},
     "output_type": "execute_result"
    }
   ],
   "source": [
    "precision_score(y_test,y_pred1)"
   ]
  },
  {
   "cell_type": "code",
   "execution_count": 38,
   "id": "b6bd0b3a",
   "metadata": {
    "execution": {
     "iopub.execute_input": "2023-08-26T17:27:19.776222Z",
     "iopub.status.busy": "2023-08-26T17:27:19.775843Z",
     "iopub.status.idle": "2023-08-26T17:27:19.786653Z",
     "shell.execute_reply": "2023-08-26T17:27:19.785758Z"
    },
    "papermill": {
     "duration": 0.041213,
     "end_time": "2023-08-26T17:27:19.788951",
     "exception": false,
     "start_time": "2023-08-26T17:27:19.747738",
     "status": "completed"
    },
    "tags": []
   },
   "outputs": [
    {
     "data": {
      "text/plain": [
       "0.6503541532517708"
      ]
     },
     "execution_count": 38,
     "metadata": {},
     "output_type": "execute_result"
    }
   ],
   "source": [
    "recall_score(y_test,y_pred1)"
   ]
  },
  {
   "cell_type": "code",
   "execution_count": 39,
   "id": "b7b42f1f",
   "metadata": {
    "execution": {
     "iopub.execute_input": "2023-08-26T17:27:19.844955Z",
     "iopub.status.busy": "2023-08-26T17:27:19.843625Z",
     "iopub.status.idle": "2023-08-26T17:27:19.855385Z",
     "shell.execute_reply": "2023-08-26T17:27:19.854268Z"
    },
    "papermill": {
     "duration": 0.042189,
     "end_time": "2023-08-26T17:27:19.857743",
     "exception": false,
     "start_time": "2023-08-26T17:27:19.815554",
     "status": "completed"
    },
    "tags": []
   },
   "outputs": [
    {
     "data": {
      "text/plain": [
       "0.590988882387361"
      ]
     },
     "execution_count": 39,
     "metadata": {},
     "output_type": "execute_result"
    }
   ],
   "source": [
    "f1_score(y_test,y_pred1)"
   ]
  },
  {
   "cell_type": "code",
   "execution_count": 40,
   "id": "b71fbda9",
   "metadata": {
    "execution": {
     "iopub.execute_input": "2023-08-26T17:27:19.914911Z",
     "iopub.status.busy": "2023-08-26T17:27:19.914512Z",
     "iopub.status.idle": "2023-08-26T17:27:19.919360Z",
     "shell.execute_reply": "2023-08-26T17:27:19.918319Z"
    },
    "papermill": {
     "duration": 0.035628,
     "end_time": "2023-08-26T17:27:19.921662",
     "exception": false,
     "start_time": "2023-08-26T17:27:19.886034",
     "status": "completed"
    },
    "tags": []
   },
   "outputs": [],
   "source": [
    "# SVC\n",
    "from sklearn import svm\n",
    "SVC=svm.SVC()"
   ]
  },
  {
   "cell_type": "code",
   "execution_count": 41,
   "id": "0b0cfa79",
   "metadata": {
    "execution": {
     "iopub.execute_input": "2023-08-26T17:27:19.978652Z",
     "iopub.status.busy": "2023-08-26T17:27:19.977931Z",
     "iopub.status.idle": "2023-08-26T17:27:29.131338Z",
     "shell.execute_reply": "2023-08-26T17:27:29.130306Z"
    },
    "papermill": {
     "duration": 9.184481,
     "end_time": "2023-08-26T17:27:29.133780",
     "exception": false,
     "start_time": "2023-08-26T17:27:19.949299",
     "status": "completed"
    },
    "tags": []
   },
   "outputs": [
    {
     "data": {
      "text/html": [
       "<style>#sk-container-id-2 {color: black;background-color: white;}#sk-container-id-2 pre{padding: 0;}#sk-container-id-2 div.sk-toggleable {background-color: white;}#sk-container-id-2 label.sk-toggleable__label {cursor: pointer;display: block;width: 100%;margin-bottom: 0;padding: 0.3em;box-sizing: border-box;text-align: center;}#sk-container-id-2 label.sk-toggleable__label-arrow:before {content: \"▸\";float: left;margin-right: 0.25em;color: #696969;}#sk-container-id-2 label.sk-toggleable__label-arrow:hover:before {color: black;}#sk-container-id-2 div.sk-estimator:hover label.sk-toggleable__label-arrow:before {color: black;}#sk-container-id-2 div.sk-toggleable__content {max-height: 0;max-width: 0;overflow: hidden;text-align: left;background-color: #f0f8ff;}#sk-container-id-2 div.sk-toggleable__content pre {margin: 0.2em;color: black;border-radius: 0.25em;background-color: #f0f8ff;}#sk-container-id-2 input.sk-toggleable__control:checked~div.sk-toggleable__content {max-height: 200px;max-width: 100%;overflow: auto;}#sk-container-id-2 input.sk-toggleable__control:checked~label.sk-toggleable__label-arrow:before {content: \"▾\";}#sk-container-id-2 div.sk-estimator input.sk-toggleable__control:checked~label.sk-toggleable__label {background-color: #d4ebff;}#sk-container-id-2 div.sk-label input.sk-toggleable__control:checked~label.sk-toggleable__label {background-color: #d4ebff;}#sk-container-id-2 input.sk-hidden--visually {border: 0;clip: rect(1px 1px 1px 1px);clip: rect(1px, 1px, 1px, 1px);height: 1px;margin: -1px;overflow: hidden;padding: 0;position: absolute;width: 1px;}#sk-container-id-2 div.sk-estimator {font-family: monospace;background-color: #f0f8ff;border: 1px dotted black;border-radius: 0.25em;box-sizing: border-box;margin-bottom: 0.5em;}#sk-container-id-2 div.sk-estimator:hover {background-color: #d4ebff;}#sk-container-id-2 div.sk-parallel-item::after {content: \"\";width: 100%;border-bottom: 1px solid gray;flex-grow: 1;}#sk-container-id-2 div.sk-label:hover label.sk-toggleable__label {background-color: #d4ebff;}#sk-container-id-2 div.sk-serial::before {content: \"\";position: absolute;border-left: 1px solid gray;box-sizing: border-box;top: 0;bottom: 0;left: 50%;z-index: 0;}#sk-container-id-2 div.sk-serial {display: flex;flex-direction: column;align-items: center;background-color: white;padding-right: 0.2em;padding-left: 0.2em;position: relative;}#sk-container-id-2 div.sk-item {position: relative;z-index: 1;}#sk-container-id-2 div.sk-parallel {display: flex;align-items: stretch;justify-content: center;background-color: white;position: relative;}#sk-container-id-2 div.sk-item::before, #sk-container-id-2 div.sk-parallel-item::before {content: \"\";position: absolute;border-left: 1px solid gray;box-sizing: border-box;top: 0;bottom: 0;left: 50%;z-index: -1;}#sk-container-id-2 div.sk-parallel-item {display: flex;flex-direction: column;z-index: 1;position: relative;background-color: white;}#sk-container-id-2 div.sk-parallel-item:first-child::after {align-self: flex-end;width: 50%;}#sk-container-id-2 div.sk-parallel-item:last-child::after {align-self: flex-start;width: 50%;}#sk-container-id-2 div.sk-parallel-item:only-child::after {width: 0;}#sk-container-id-2 div.sk-dashed-wrapped {border: 1px dashed gray;margin: 0 0.4em 0.5em 0.4em;box-sizing: border-box;padding-bottom: 0.4em;background-color: white;}#sk-container-id-2 div.sk-label label {font-family: monospace;font-weight: bold;display: inline-block;line-height: 1.2em;}#sk-container-id-2 div.sk-label-container {text-align: center;}#sk-container-id-2 div.sk-container {/* jupyter's `normalize.less` sets `[hidden] { display: none; }` but bootstrap.min.css set `[hidden] { display: none !important; }` so we also need the `!important` here to be able to override the default hidden behavior on the sphinx rendered scikit-learn.org. See: https://github.com/scikit-learn/scikit-learn/issues/21755 */display: inline-block !important;position: relative;}#sk-container-id-2 div.sk-text-repr-fallback {display: none;}</style><div id=\"sk-container-id-2\" class=\"sk-top-container\"><div class=\"sk-text-repr-fallback\"><pre>SVC()</pre><b>In a Jupyter environment, please rerun this cell to show the HTML representation or trust the notebook. <br />On GitHub, the HTML representation is unable to render, please try loading this page with nbviewer.org.</b></div><div class=\"sk-container\" hidden><div class=\"sk-item\"><div class=\"sk-estimator sk-toggleable\"><input class=\"sk-toggleable__control sk-hidden--visually\" id=\"sk-estimator-id-2\" type=\"checkbox\" checked><label for=\"sk-estimator-id-2\" class=\"sk-toggleable__label sk-toggleable__label-arrow\">SVC</label><div class=\"sk-toggleable__content\"><pre>SVC()</pre></div></div></div></div></div>"
      ],
      "text/plain": [
       "SVC()"
      ]
     },
     "execution_count": 41,
     "metadata": {},
     "output_type": "execute_result"
    }
   ],
   "source": [
    "SVC.fit(x_train,y_train)"
   ]
  },
  {
   "cell_type": "code",
   "execution_count": 42,
   "id": "ff815c87",
   "metadata": {
    "execution": {
     "iopub.execute_input": "2023-08-26T17:27:29.190311Z",
     "iopub.status.busy": "2023-08-26T17:27:29.189938Z",
     "iopub.status.idle": "2023-08-26T17:27:31.053573Z",
     "shell.execute_reply": "2023-08-26T17:27:31.052268Z"
    },
    "papermill": {
     "duration": 1.895515,
     "end_time": "2023-08-26T17:27:31.056361",
     "exception": false,
     "start_time": "2023-08-26T17:27:29.160846",
     "status": "completed"
    },
    "tags": []
   },
   "outputs": [],
   "source": [
    "y_pred2=SVC.predict(x_test)"
   ]
  },
  {
   "cell_type": "code",
   "execution_count": 43,
   "id": "44e8551b",
   "metadata": {
    "execution": {
     "iopub.execute_input": "2023-08-26T17:27:31.112514Z",
     "iopub.status.busy": "2023-08-26T17:27:31.112098Z",
     "iopub.status.idle": "2023-08-26T17:27:31.120386Z",
     "shell.execute_reply": "2023-08-26T17:27:31.119261Z"
    },
    "papermill": {
     "duration": 0.039072,
     "end_time": "2023-08-26T17:27:31.122654",
     "exception": false,
     "start_time": "2023-08-26T17:27:31.083582",
     "status": "completed"
    },
    "tags": []
   },
   "outputs": [
    {
     "data": {
      "text/plain": [
       "0.5599497802887633"
      ]
     },
     "execution_count": 43,
     "metadata": {},
     "output_type": "execute_result"
    }
   ],
   "source": [
    "accuracy_score(y_test,y_pred2)"
   ]
  },
  {
   "cell_type": "code",
   "execution_count": 44,
   "id": "61270e3f",
   "metadata": {
    "execution": {
     "iopub.execute_input": "2023-08-26T17:27:31.179417Z",
     "iopub.status.busy": "2023-08-26T17:27:31.178978Z",
     "iopub.status.idle": "2023-08-26T17:27:31.190110Z",
     "shell.execute_reply": "2023-08-26T17:27:31.188960Z"
    },
    "papermill": {
     "duration": 0.04226,
     "end_time": "2023-08-26T17:27:31.192466",
     "exception": false,
     "start_time": "2023-08-26T17:27:31.150206",
     "status": "completed"
    },
    "tags": []
   },
   "outputs": [
    {
     "data": {
      "text/plain": [
       "0.5353961556493202"
      ]
     },
     "execution_count": 44,
     "metadata": {},
     "output_type": "execute_result"
    }
   ],
   "source": [
    "precision_score(y_test,y_pred2)"
   ]
  },
  {
   "cell_type": "code",
   "execution_count": 45,
   "id": "357751f5",
   "metadata": {
    "execution": {
     "iopub.execute_input": "2023-08-26T17:27:31.249501Z",
     "iopub.status.busy": "2023-08-26T17:27:31.249067Z",
     "iopub.status.idle": "2023-08-26T17:27:31.253844Z",
     "shell.execute_reply": "2023-08-26T17:27:31.252629Z"
    },
    "papermill": {
     "duration": 0.036148,
     "end_time": "2023-08-26T17:27:31.256141",
     "exception": false,
     "start_time": "2023-08-26T17:27:31.219993",
     "status": "completed"
    },
    "tags": []
   },
   "outputs": [],
   "source": [
    "# KNeighbors Classifier\n",
    "from sklearn.neighbors import KNeighborsClassifier"
   ]
  },
  {
   "cell_type": "code",
   "execution_count": 46,
   "id": "6c4ba814",
   "metadata": {
    "execution": {
     "iopub.execute_input": "2023-08-26T17:27:31.313163Z",
     "iopub.status.busy": "2023-08-26T17:27:31.312758Z",
     "iopub.status.idle": "2023-08-26T17:27:31.317907Z",
     "shell.execute_reply": "2023-08-26T17:27:31.316679Z"
    },
    "papermill": {
     "duration": 0.036612,
     "end_time": "2023-08-26T17:27:31.320120",
     "exception": false,
     "start_time": "2023-08-26T17:27:31.283508",
     "status": "completed"
    },
    "tags": []
   },
   "outputs": [],
   "source": [
    "KNN=KNeighborsClassifier()"
   ]
  },
  {
   "cell_type": "code",
   "execution_count": 47,
   "id": "1e6a56e5",
   "metadata": {
    "execution": {
     "iopub.execute_input": "2023-08-26T17:27:31.376985Z",
     "iopub.status.busy": "2023-08-26T17:27:31.376549Z",
     "iopub.status.idle": "2023-08-26T17:27:31.403197Z",
     "shell.execute_reply": "2023-08-26T17:27:31.402337Z"
    },
    "papermill": {
     "duration": 0.057598,
     "end_time": "2023-08-26T17:27:31.405451",
     "exception": false,
     "start_time": "2023-08-26T17:27:31.347853",
     "status": "completed"
    },
    "tags": []
   },
   "outputs": [
    {
     "data": {
      "text/html": [
       "<style>#sk-container-id-3 {color: black;background-color: white;}#sk-container-id-3 pre{padding: 0;}#sk-container-id-3 div.sk-toggleable {background-color: white;}#sk-container-id-3 label.sk-toggleable__label {cursor: pointer;display: block;width: 100%;margin-bottom: 0;padding: 0.3em;box-sizing: border-box;text-align: center;}#sk-container-id-3 label.sk-toggleable__label-arrow:before {content: \"▸\";float: left;margin-right: 0.25em;color: #696969;}#sk-container-id-3 label.sk-toggleable__label-arrow:hover:before {color: black;}#sk-container-id-3 div.sk-estimator:hover label.sk-toggleable__label-arrow:before {color: black;}#sk-container-id-3 div.sk-toggleable__content {max-height: 0;max-width: 0;overflow: hidden;text-align: left;background-color: #f0f8ff;}#sk-container-id-3 div.sk-toggleable__content pre {margin: 0.2em;color: black;border-radius: 0.25em;background-color: #f0f8ff;}#sk-container-id-3 input.sk-toggleable__control:checked~div.sk-toggleable__content {max-height: 200px;max-width: 100%;overflow: auto;}#sk-container-id-3 input.sk-toggleable__control:checked~label.sk-toggleable__label-arrow:before {content: \"▾\";}#sk-container-id-3 div.sk-estimator input.sk-toggleable__control:checked~label.sk-toggleable__label {background-color: #d4ebff;}#sk-container-id-3 div.sk-label input.sk-toggleable__control:checked~label.sk-toggleable__label {background-color: #d4ebff;}#sk-container-id-3 input.sk-hidden--visually {border: 0;clip: rect(1px 1px 1px 1px);clip: rect(1px, 1px, 1px, 1px);height: 1px;margin: -1px;overflow: hidden;padding: 0;position: absolute;width: 1px;}#sk-container-id-3 div.sk-estimator {font-family: monospace;background-color: #f0f8ff;border: 1px dotted black;border-radius: 0.25em;box-sizing: border-box;margin-bottom: 0.5em;}#sk-container-id-3 div.sk-estimator:hover {background-color: #d4ebff;}#sk-container-id-3 div.sk-parallel-item::after {content: \"\";width: 100%;border-bottom: 1px solid gray;flex-grow: 1;}#sk-container-id-3 div.sk-label:hover label.sk-toggleable__label {background-color: #d4ebff;}#sk-container-id-3 div.sk-serial::before {content: \"\";position: absolute;border-left: 1px solid gray;box-sizing: border-box;top: 0;bottom: 0;left: 50%;z-index: 0;}#sk-container-id-3 div.sk-serial {display: flex;flex-direction: column;align-items: center;background-color: white;padding-right: 0.2em;padding-left: 0.2em;position: relative;}#sk-container-id-3 div.sk-item {position: relative;z-index: 1;}#sk-container-id-3 div.sk-parallel {display: flex;align-items: stretch;justify-content: center;background-color: white;position: relative;}#sk-container-id-3 div.sk-item::before, #sk-container-id-3 div.sk-parallel-item::before {content: \"\";position: absolute;border-left: 1px solid gray;box-sizing: border-box;top: 0;bottom: 0;left: 50%;z-index: -1;}#sk-container-id-3 div.sk-parallel-item {display: flex;flex-direction: column;z-index: 1;position: relative;background-color: white;}#sk-container-id-3 div.sk-parallel-item:first-child::after {align-self: flex-end;width: 50%;}#sk-container-id-3 div.sk-parallel-item:last-child::after {align-self: flex-start;width: 50%;}#sk-container-id-3 div.sk-parallel-item:only-child::after {width: 0;}#sk-container-id-3 div.sk-dashed-wrapped {border: 1px dashed gray;margin: 0 0.4em 0.5em 0.4em;box-sizing: border-box;padding-bottom: 0.4em;background-color: white;}#sk-container-id-3 div.sk-label label {font-family: monospace;font-weight: bold;display: inline-block;line-height: 1.2em;}#sk-container-id-3 div.sk-label-container {text-align: center;}#sk-container-id-3 div.sk-container {/* jupyter's `normalize.less` sets `[hidden] { display: none; }` but bootstrap.min.css set `[hidden] { display: none !important; }` so we also need the `!important` here to be able to override the default hidden behavior on the sphinx rendered scikit-learn.org. See: https://github.com/scikit-learn/scikit-learn/issues/21755 */display: inline-block !important;position: relative;}#sk-container-id-3 div.sk-text-repr-fallback {display: none;}</style><div id=\"sk-container-id-3\" class=\"sk-top-container\"><div class=\"sk-text-repr-fallback\"><pre>KNeighborsClassifier()</pre><b>In a Jupyter environment, please rerun this cell to show the HTML representation or trust the notebook. <br />On GitHub, the HTML representation is unable to render, please try loading this page with nbviewer.org.</b></div><div class=\"sk-container\" hidden><div class=\"sk-item\"><div class=\"sk-estimator sk-toggleable\"><input class=\"sk-toggleable__control sk-hidden--visually\" id=\"sk-estimator-id-3\" type=\"checkbox\" checked><label for=\"sk-estimator-id-3\" class=\"sk-toggleable__label sk-toggleable__label-arrow\">KNeighborsClassifier</label><div class=\"sk-toggleable__content\"><pre>KNeighborsClassifier()</pre></div></div></div></div></div>"
      ],
      "text/plain": [
       "KNeighborsClassifier()"
      ]
     },
     "execution_count": 47,
     "metadata": {},
     "output_type": "execute_result"
    }
   ],
   "source": [
    "KNN.fit(x_train,y_train)"
   ]
  },
  {
   "cell_type": "code",
   "execution_count": 48,
   "id": "74401c9a",
   "metadata": {
    "execution": {
     "iopub.execute_input": "2023-08-26T17:27:31.463756Z",
     "iopub.status.busy": "2023-08-26T17:27:31.463025Z",
     "iopub.status.idle": "2023-08-26T17:27:31.607782Z",
     "shell.execute_reply": "2023-08-26T17:27:31.606842Z"
    },
    "papermill": {
     "duration": 0.176773,
     "end_time": "2023-08-26T17:27:31.610521",
     "exception": false,
     "start_time": "2023-08-26T17:27:31.433748",
     "status": "completed"
    },
    "tags": []
   },
   "outputs": [],
   "source": [
    "y_pred3=KNN.predict(x_test)"
   ]
  },
  {
   "cell_type": "code",
   "execution_count": 49,
   "id": "84166554",
   "metadata": {
    "execution": {
     "iopub.execute_input": "2023-08-26T17:27:31.668117Z",
     "iopub.status.busy": "2023-08-26T17:27:31.667668Z",
     "iopub.status.idle": "2023-08-26T17:27:31.677339Z",
     "shell.execute_reply": "2023-08-26T17:27:31.676505Z"
    },
    "papermill": {
     "duration": 0.040886,
     "end_time": "2023-08-26T17:27:31.679385",
     "exception": false,
     "start_time": "2023-08-26T17:27:31.638499",
     "status": "completed"
    },
    "tags": []
   },
   "outputs": [
    {
     "data": {
      "text/plain": [
       "0.6817325800376648"
      ]
     },
     "execution_count": 49,
     "metadata": {},
     "output_type": "execute_result"
    }
   ],
   "source": [
    "accuracy_score(y_pred3,y_test)"
   ]
  },
  {
   "cell_type": "code",
   "execution_count": 50,
   "id": "e8f48e28",
   "metadata": {
    "execution": {
     "iopub.execute_input": "2023-08-26T17:27:31.736783Z",
     "iopub.status.busy": "2023-08-26T17:27:31.736320Z",
     "iopub.status.idle": "2023-08-26T17:27:31.748137Z",
     "shell.execute_reply": "2023-08-26T17:27:31.747038Z"
    },
    "papermill": {
     "duration": 0.043452,
     "end_time": "2023-08-26T17:27:31.750569",
     "exception": false,
     "start_time": "2023-08-26T17:27:31.707117",
     "status": "completed"
    },
    "tags": []
   },
   "outputs": [
    {
     "data": {
      "text/plain": [
       "0.6445040214477212"
      ]
     },
     "execution_count": 50,
     "metadata": {},
     "output_type": "execute_result"
    }
   ],
   "source": [
    "precision_score(y_test,y_pred3)"
   ]
  },
  {
   "cell_type": "code",
   "execution_count": 51,
   "id": "b323d76b",
   "metadata": {
    "execution": {
     "iopub.execute_input": "2023-08-26T17:27:31.808945Z",
     "iopub.status.busy": "2023-08-26T17:27:31.807505Z",
     "iopub.status.idle": "2023-08-26T17:27:31.898165Z",
     "shell.execute_reply": "2023-08-26T17:27:31.897135Z"
    },
    "papermill": {
     "duration": 0.122165,
     "end_time": "2023-08-26T17:27:31.900504",
     "exception": false,
     "start_time": "2023-08-26T17:27:31.778339",
     "status": "completed"
    },
    "tags": []
   },
   "outputs": [
    {
     "data": {
      "text/html": [
       "<style>#sk-container-id-4 {color: black;background-color: white;}#sk-container-id-4 pre{padding: 0;}#sk-container-id-4 div.sk-toggleable {background-color: white;}#sk-container-id-4 label.sk-toggleable__label {cursor: pointer;display: block;width: 100%;margin-bottom: 0;padding: 0.3em;box-sizing: border-box;text-align: center;}#sk-container-id-4 label.sk-toggleable__label-arrow:before {content: \"▸\";float: left;margin-right: 0.25em;color: #696969;}#sk-container-id-4 label.sk-toggleable__label-arrow:hover:before {color: black;}#sk-container-id-4 div.sk-estimator:hover label.sk-toggleable__label-arrow:before {color: black;}#sk-container-id-4 div.sk-toggleable__content {max-height: 0;max-width: 0;overflow: hidden;text-align: left;background-color: #f0f8ff;}#sk-container-id-4 div.sk-toggleable__content pre {margin: 0.2em;color: black;border-radius: 0.25em;background-color: #f0f8ff;}#sk-container-id-4 input.sk-toggleable__control:checked~div.sk-toggleable__content {max-height: 200px;max-width: 100%;overflow: auto;}#sk-container-id-4 input.sk-toggleable__control:checked~label.sk-toggleable__label-arrow:before {content: \"▾\";}#sk-container-id-4 div.sk-estimator input.sk-toggleable__control:checked~label.sk-toggleable__label {background-color: #d4ebff;}#sk-container-id-4 div.sk-label input.sk-toggleable__control:checked~label.sk-toggleable__label {background-color: #d4ebff;}#sk-container-id-4 input.sk-hidden--visually {border: 0;clip: rect(1px 1px 1px 1px);clip: rect(1px, 1px, 1px, 1px);height: 1px;margin: -1px;overflow: hidden;padding: 0;position: absolute;width: 1px;}#sk-container-id-4 div.sk-estimator {font-family: monospace;background-color: #f0f8ff;border: 1px dotted black;border-radius: 0.25em;box-sizing: border-box;margin-bottom: 0.5em;}#sk-container-id-4 div.sk-estimator:hover {background-color: #d4ebff;}#sk-container-id-4 div.sk-parallel-item::after {content: \"\";width: 100%;border-bottom: 1px solid gray;flex-grow: 1;}#sk-container-id-4 div.sk-label:hover label.sk-toggleable__label {background-color: #d4ebff;}#sk-container-id-4 div.sk-serial::before {content: \"\";position: absolute;border-left: 1px solid gray;box-sizing: border-box;top: 0;bottom: 0;left: 50%;z-index: 0;}#sk-container-id-4 div.sk-serial {display: flex;flex-direction: column;align-items: center;background-color: white;padding-right: 0.2em;padding-left: 0.2em;position: relative;}#sk-container-id-4 div.sk-item {position: relative;z-index: 1;}#sk-container-id-4 div.sk-parallel {display: flex;align-items: stretch;justify-content: center;background-color: white;position: relative;}#sk-container-id-4 div.sk-item::before, #sk-container-id-4 div.sk-parallel-item::before {content: \"\";position: absolute;border-left: 1px solid gray;box-sizing: border-box;top: 0;bottom: 0;left: 50%;z-index: -1;}#sk-container-id-4 div.sk-parallel-item {display: flex;flex-direction: column;z-index: 1;position: relative;background-color: white;}#sk-container-id-4 div.sk-parallel-item:first-child::after {align-self: flex-end;width: 50%;}#sk-container-id-4 div.sk-parallel-item:last-child::after {align-self: flex-start;width: 50%;}#sk-container-id-4 div.sk-parallel-item:only-child::after {width: 0;}#sk-container-id-4 div.sk-dashed-wrapped {border: 1px dashed gray;margin: 0 0.4em 0.5em 0.4em;box-sizing: border-box;padding-bottom: 0.4em;background-color: white;}#sk-container-id-4 div.sk-label label {font-family: monospace;font-weight: bold;display: inline-block;line-height: 1.2em;}#sk-container-id-4 div.sk-label-container {text-align: center;}#sk-container-id-4 div.sk-container {/* jupyter's `normalize.less` sets `[hidden] { display: none; }` but bootstrap.min.css set `[hidden] { display: none !important; }` so we also need the `!important` here to be able to override the default hidden behavior on the sphinx rendered scikit-learn.org. See: https://github.com/scikit-learn/scikit-learn/issues/21755 */display: inline-block !important;position: relative;}#sk-container-id-4 div.sk-text-repr-fallback {display: none;}</style><div id=\"sk-container-id-4\" class=\"sk-top-container\"><div class=\"sk-text-repr-fallback\"><pre>DecisionTreeClassifier()</pre><b>In a Jupyter environment, please rerun this cell to show the HTML representation or trust the notebook. <br />On GitHub, the HTML representation is unable to render, please try loading this page with nbviewer.org.</b></div><div class=\"sk-container\" hidden><div class=\"sk-item\"><div class=\"sk-estimator sk-toggleable\"><input class=\"sk-toggleable__control sk-hidden--visually\" id=\"sk-estimator-id-4\" type=\"checkbox\" checked><label for=\"sk-estimator-id-4\" class=\"sk-toggleable__label sk-toggleable__label-arrow\">DecisionTreeClassifier</label><div class=\"sk-toggleable__content\"><pre>DecisionTreeClassifier()</pre></div></div></div></div></div>"
      ],
      "text/plain": [
       "DecisionTreeClassifier()"
      ]
     },
     "execution_count": 51,
     "metadata": {},
     "output_type": "execute_result"
    }
   ],
   "source": [
    "# decision tree classifier\n",
    "from sklearn.tree import DecisionTreeClassifier\n",
    "DT=DecisionTreeClassifier()\n",
    "DT.fit(x_train,y_train)"
   ]
  },
  {
   "cell_type": "code",
   "execution_count": 52,
   "id": "dae177aa",
   "metadata": {
    "execution": {
     "iopub.execute_input": "2023-08-26T17:27:31.959082Z",
     "iopub.status.busy": "2023-08-26T17:27:31.958074Z",
     "iopub.status.idle": "2023-08-26T17:27:32.379992Z",
     "shell.execute_reply": "2023-08-26T17:27:32.378640Z"
    },
    "papermill": {
     "duration": 0.453266,
     "end_time": "2023-08-26T17:27:32.381913",
     "exception": true,
     "start_time": "2023-08-26T17:27:31.928647",
     "status": "failed"
    },
    "tags": []
   },
   "outputs": [
    {
     "ename": "NameError",
     "evalue": "name 'dt' is not defined",
     "output_type": "error",
     "traceback": [
      "\u001b[0;31m---------------------------------------------------------------------------\u001b[0m",
      "\u001b[0;31mNameError\u001b[0m                                 Traceback (most recent call last)",
      "Cell \u001b[0;32mIn[52], line 1\u001b[0m\n\u001b[0;32m----> 1\u001b[0m y_pred4\u001b[38;5;241m=\u001b[39m\u001b[43mdt\u001b[49m\u001b[38;5;241m.\u001b[39mpredict(x_test)\n\u001b[1;32m      2\u001b[0m accuracy_score(y_test,y_pred4)\n",
      "\u001b[0;31mNameError\u001b[0m: name 'dt' is not defined"
     ]
    }
   ],
   "source": [
    "y_pred4=dt.predict(x_test)\n",
    "accuracy_score(y_test,y_pred4)"
   ]
  },
  {
   "cell_type": "code",
   "execution_count": null,
   "id": "6ca704ff",
   "metadata": {
    "execution": {
     "iopub.execute_input": "2023-08-26T17:21:01.643567Z",
     "iopub.status.busy": "2023-08-26T17:21:01.642685Z",
     "iopub.status.idle": "2023-08-26T17:21:01.649784Z",
     "shell.execute_reply": "2023-08-26T17:21:01.648337Z",
     "shell.execute_reply.started": "2023-08-26T17:21:01.643525Z"
    },
    "papermill": {
     "duration": null,
     "end_time": null,
     "exception": null,
     "start_time": null,
     "status": "pending"
    },
    "tags": []
   },
   "outputs": [],
   "source": [
    "# Random Forest Classifier\n",
    "from sklearn.ensemble import RandomForestClassifier"
   ]
  },
  {
   "cell_type": "code",
   "execution_count": null,
   "id": "9bff1882",
   "metadata": {
    "execution": {
     "iopub.execute_input": "2023-08-26T17:21:01.651803Z",
     "iopub.status.busy": "2023-08-26T17:21:01.651436Z",
     "iopub.status.idle": "2023-08-26T17:21:01.661272Z",
     "shell.execute_reply": "2023-08-26T17:21:01.660075Z",
     "shell.execute_reply.started": "2023-08-26T17:21:01.651772Z"
    },
    "papermill": {
     "duration": null,
     "end_time": null,
     "exception": null,
     "start_time": null,
     "status": "pending"
    },
    "tags": []
   },
   "outputs": [],
   "source": [
    "RF=RandomForestClassifier()"
   ]
  },
  {
   "cell_type": "code",
   "execution_count": null,
   "id": "cdc705d2",
   "metadata": {
    "execution": {
     "iopub.execute_input": "2023-08-26T17:21:01.663239Z",
     "iopub.status.busy": "2023-08-26T17:21:01.662850Z",
     "iopub.status.idle": "2023-08-26T17:21:03.695818Z",
     "shell.execute_reply": "2023-08-26T17:21:03.694489Z",
     "shell.execute_reply.started": "2023-08-26T17:21:01.663208Z"
    },
    "papermill": {
     "duration": null,
     "end_time": null,
     "exception": null,
     "start_time": null,
     "status": "pending"
    },
    "tags": []
   },
   "outputs": [],
   "source": [
    "RF.fit(x_train,y_train)"
   ]
  },
  {
   "cell_type": "code",
   "execution_count": null,
   "id": "8a86f460",
   "metadata": {
    "execution": {
     "iopub.execute_input": "2023-08-26T17:21:03.698250Z",
     "iopub.status.busy": "2023-08-26T17:21:03.697769Z",
     "iopub.status.idle": "2023-08-26T17:21:03.757162Z",
     "shell.execute_reply": "2023-08-26T17:21:03.755568Z",
     "shell.execute_reply.started": "2023-08-26T17:21:03.698206Z"
    },
    "papermill": {
     "duration": null,
     "end_time": null,
     "exception": null,
     "start_time": null,
     "status": "pending"
    },
    "tags": []
   },
   "outputs": [],
   "source": [
    "y_pred5=rf.predict(x_test)"
   ]
  },
  {
   "cell_type": "code",
   "execution_count": null,
   "id": "ba370e34",
   "metadata": {
    "execution": {
     "iopub.execute_input": "2023-08-26T17:21:03.759239Z",
     "iopub.status.busy": "2023-08-26T17:21:03.758851Z",
     "iopub.status.idle": "2023-08-26T17:21:03.768499Z",
     "shell.execute_reply": "2023-08-26T17:21:03.767392Z",
     "shell.execute_reply.started": "2023-08-26T17:21:03.759205Z"
    },
    "papermill": {
     "duration": null,
     "end_time": null,
     "exception": null,
     "start_time": null,
     "status": "pending"
    },
    "tags": []
   },
   "outputs": [],
   "source": [
    "accuracy_score(y_test,y_pred5)"
   ]
  },
  {
   "cell_type": "code",
   "execution_count": null,
   "id": "3788cb95",
   "metadata": {
    "execution": {
     "iopub.execute_input": "2023-08-26T17:21:03.770477Z",
     "iopub.status.busy": "2023-08-26T17:21:03.770100Z",
     "iopub.status.idle": "2023-08-26T17:21:03.778216Z",
     "shell.execute_reply": "2023-08-26T17:21:03.777153Z",
     "shell.execute_reply.started": "2023-08-26T17:21:03.770446Z"
    },
    "papermill": {
     "duration": null,
     "end_time": null,
     "exception": null,
     "start_time": null,
     "status": "pending"
    },
    "tags": []
   },
   "outputs": [],
   "source": [
    "# Gradient Boosting Classifier\n",
    "from sklearn.ensemble import GradientBoostingClassifier"
   ]
  },
  {
   "cell_type": "code",
   "execution_count": null,
   "id": "46b087de",
   "metadata": {
    "execution": {
     "iopub.execute_input": "2023-08-26T17:21:03.779853Z",
     "iopub.status.busy": "2023-08-26T17:21:03.779482Z",
     "iopub.status.idle": "2023-08-26T17:21:03.792814Z",
     "shell.execute_reply": "2023-08-26T17:21:03.791538Z",
     "shell.execute_reply.started": "2023-08-26T17:21:03.779821Z"
    },
    "papermill": {
     "duration": null,
     "end_time": null,
     "exception": null,
     "start_time": null,
     "status": "pending"
    },
    "tags": []
   },
   "outputs": [],
   "source": [
    "GBC=GradientBoostingClassifier()"
   ]
  },
  {
   "cell_type": "code",
   "execution_count": null,
   "id": "375af544",
   "metadata": {
    "execution": {
     "iopub.execute_input": "2023-08-26T17:21:03.795021Z",
     "iopub.status.busy": "2023-08-26T17:21:03.794592Z",
     "iopub.status.idle": "2023-08-26T17:21:05.781371Z",
     "shell.execute_reply": "2023-08-26T17:21:05.780190Z",
     "shell.execute_reply.started": "2023-08-26T17:21:03.794975Z"
    },
    "papermill": {
     "duration": null,
     "end_time": null,
     "exception": null,
     "start_time": null,
     "status": "pending"
    },
    "tags": []
   },
   "outputs": [],
   "source": [
    "GBC.fit(x_train,y_train)"
   ]
  },
  {
   "cell_type": "code",
   "execution_count": null,
   "id": "4ce6a9e2",
   "metadata": {
    "execution": {
     "iopub.execute_input": "2023-08-26T17:21:05.782932Z",
     "iopub.status.busy": "2023-08-26T17:21:05.782634Z",
     "iopub.status.idle": "2023-08-26T17:21:05.797778Z",
     "shell.execute_reply": "2023-08-26T17:21:05.796617Z",
     "shell.execute_reply.started": "2023-08-26T17:21:05.782906Z"
    },
    "papermill": {
     "duration": null,
     "end_time": null,
     "exception": null,
     "start_time": null,
     "status": "pending"
    },
    "tags": []
   },
   "outputs": [],
   "source": [
    "y_pred6=gbc.predict(x_test)"
   ]
  },
  {
   "cell_type": "code",
   "execution_count": null,
   "id": "ffed281b",
   "metadata": {
    "execution": {
     "iopub.execute_input": "2023-08-26T17:21:05.799592Z",
     "iopub.status.busy": "2023-08-26T17:21:05.799278Z",
     "iopub.status.idle": "2023-08-26T17:21:05.806691Z",
     "shell.execute_reply": "2023-08-26T17:21:05.805892Z",
     "shell.execute_reply.started": "2023-08-26T17:21:05.799564Z"
    },
    "papermill": {
     "duration": null,
     "end_time": null,
     "exception": null,
     "start_time": null,
     "status": "pending"
    },
    "tags": []
   },
   "outputs": [],
   "source": [
    "accuracy_score(y_pred6,y_test)"
   ]
  },
  {
   "cell_type": "code",
   "execution_count": null,
   "id": "6eca8931",
   "metadata": {
    "execution": {
     "iopub.execute_input": "2023-08-26T17:21:05.808520Z",
     "iopub.status.busy": "2023-08-26T17:21:05.807977Z",
     "iopub.status.idle": "2023-08-26T17:21:05.827035Z",
     "shell.execute_reply": "2023-08-26T17:21:05.825647Z",
     "shell.execute_reply.started": "2023-08-26T17:21:05.808488Z"
    },
    "papermill": {
     "duration": null,
     "end_time": null,
     "exception": null,
     "start_time": null,
     "status": "pending"
    },
    "tags": []
   },
   "outputs": [],
   "source": [
    "final_data=pd.DataFrame({'Models':['LR','SVC','KNN','DT','RF','GBC'],'ACC':[accuracy_score(y_test,y_pred1),\n",
    "                                                                            accuracy_score(y_test,y_pred2),\n",
    "                                                                            accuracy_score(y_test,y_pred3),\n",
    "                                                                            accuracy_score(y_test,y_pred4),\n",
    "                                                                            accuracy_score(y_test,y_pred5),\n",
    "                                                                            accuracy_score(y_test,y_pred6)]})"
   ]
  },
  {
   "cell_type": "code",
   "execution_count": null,
   "id": "24cfd4ff",
   "metadata": {
    "execution": {
     "iopub.execute_input": "2023-08-26T17:21:05.828995Z",
     "iopub.status.busy": "2023-08-26T17:21:05.828640Z",
     "iopub.status.idle": "2023-08-26T17:21:05.840349Z",
     "shell.execute_reply": "2023-08-26T17:21:05.839042Z",
     "shell.execute_reply.started": "2023-08-26T17:21:05.828962Z"
    },
    "papermill": {
     "duration": null,
     "end_time": null,
     "exception": null,
     "start_time": null,
     "status": "pending"
    },
    "tags": []
   },
   "outputs": [],
   "source": [
    "final_data"
   ]
  },
  {
   "cell_type": "code",
   "execution_count": null,
   "id": "ab0617d9",
   "metadata": {
    "execution": {
     "iopub.execute_input": "2023-08-26T17:21:05.842576Z",
     "iopub.status.busy": "2023-08-26T17:21:05.841656Z",
     "iopub.status.idle": "2023-08-26T17:21:05.850942Z",
     "shell.execute_reply": "2023-08-26T17:21:05.849699Z",
     "shell.execute_reply.started": "2023-08-26T17:21:05.842539Z"
    },
    "papermill": {
     "duration": null,
     "end_time": null,
     "exception": null,
     "start_time": null,
     "status": "pending"
    },
    "tags": []
   },
   "outputs": [],
   "source": [
    "import seaborn as sns"
   ]
  },
  {
   "cell_type": "code",
   "execution_count": null,
   "id": "97865ed4",
   "metadata": {
    "execution": {
     "iopub.execute_input": "2023-08-26T17:21:05.853231Z",
     "iopub.status.busy": "2023-08-26T17:21:05.852841Z",
     "iopub.status.idle": "2023-08-26T17:21:06.101315Z",
     "shell.execute_reply": "2023-08-26T17:21:06.100194Z",
     "shell.execute_reply.started": "2023-08-26T17:21:05.853199Z"
    },
    "papermill": {
     "duration": null,
     "end_time": null,
     "exception": null,
     "start_time": null,
     "status": "pending"
    },
    "tags": []
   },
   "outputs": [],
   "source": [
    "sns.barplot(x=final_data['Models'],y=final_data['ACC'])"
   ]
  },
  {
   "cell_type": "code",
   "execution_count": null,
   "id": "7d6af859",
   "metadata": {
    "execution": {
     "iopub.execute_input": "2023-08-26T17:21:06.103752Z",
     "iopub.status.busy": "2023-08-26T17:21:06.102998Z",
     "iopub.status.idle": "2023-08-26T17:21:06.116571Z",
     "shell.execute_reply": "2023-08-26T17:21:06.115654Z",
     "shell.execute_reply.started": "2023-08-26T17:21:06.103706Z"
    },
    "papermill": {
     "duration": null,
     "end_time": null,
     "exception": null,
     "start_time": null,
     "status": "pending"
    },
    "tags": []
   },
   "outputs": [],
   "source": [
    "# Save the model\n",
    "x_res=sc.fit_transform(x_res)"
   ]
  },
  {
   "cell_type": "code",
   "execution_count": null,
   "id": "2949c889",
   "metadata": {
    "execution": {
     "iopub.execute_input": "2023-08-26T17:21:06.119059Z",
     "iopub.status.busy": "2023-08-26T17:21:06.118175Z",
     "iopub.status.idle": "2023-08-26T17:21:08.614763Z",
     "shell.execute_reply": "2023-08-26T17:21:08.613691Z",
     "shell.execute_reply.started": "2023-08-26T17:21:06.119014Z"
    },
    "papermill": {
     "duration": null,
     "end_time": null,
     "exception": null,
     "start_time": null,
     "status": "pending"
    },
    "tags": []
   },
   "outputs": [],
   "source": [
    "rf.fit(x_res,y_res)"
   ]
  },
  {
   "cell_type": "code",
   "execution_count": null,
   "id": "926bf7c5",
   "metadata": {
    "execution": {
     "iopub.execute_input": "2023-08-26T17:21:08.616259Z",
     "iopub.status.busy": "2023-08-26T17:21:08.615943Z",
     "iopub.status.idle": "2023-08-26T17:21:08.621383Z",
     "shell.execute_reply": "2023-08-26T17:21:08.620219Z",
     "shell.execute_reply.started": "2023-08-26T17:21:08.616230Z"
    },
    "papermill": {
     "duration": null,
     "end_time": null,
     "exception": null,
     "start_time": null,
     "status": "pending"
    },
    "tags": []
   },
   "outputs": [],
   "source": [
    "import joblib"
   ]
  },
  {
   "cell_type": "code",
   "execution_count": null,
   "id": "b9891e4d",
   "metadata": {
    "execution": {
     "iopub.execute_input": "2023-08-26T17:21:08.623370Z",
     "iopub.status.busy": "2023-08-26T17:21:08.622904Z",
     "iopub.status.idle": "2023-08-26T17:21:08.800719Z",
     "shell.execute_reply": "2023-08-26T17:21:08.799874Z",
     "shell.execute_reply.started": "2023-08-26T17:21:08.623329Z"
    },
    "papermill": {
     "duration": null,
     "end_time": null,
     "exception": null,
     "start_time": null,
     "status": "pending"
    },
    "tags": []
   },
   "outputs": [],
   "source": [
    "joblib.dump(rf,'churn_predict_model')"
   ]
  },
  {
   "cell_type": "code",
   "execution_count": null,
   "id": "27b4e8a1",
   "metadata": {
    "execution": {
     "iopub.execute_input": "2023-08-26T17:21:08.802768Z",
     "iopub.status.busy": "2023-08-26T17:21:08.802176Z",
     "iopub.status.idle": "2023-08-26T17:21:08.896269Z",
     "shell.execute_reply": "2023-08-26T17:21:08.895086Z",
     "shell.execute_reply.started": "2023-08-26T17:21:08.802723Z"
    },
    "papermill": {
     "duration": null,
     "end_time": null,
     "exception": null,
     "start_time": null,
     "status": "pending"
    },
    "tags": []
   },
   "outputs": [],
   "source": [
    "model=joblib.load('churn_predict_model')"
   ]
  },
  {
   "cell_type": "code",
   "execution_count": null,
   "id": "45214b33",
   "metadata": {
    "execution": {
     "iopub.execute_input": "2023-08-26T17:21:08.898942Z",
     "iopub.status.busy": "2023-08-26T17:21:08.897905Z",
     "iopub.status.idle": "2023-08-26T17:21:08.906273Z",
     "shell.execute_reply": "2023-08-26T17:21:08.905302Z",
     "shell.execute_reply.started": "2023-08-26T17:21:08.898904Z"
    },
    "papermill": {
     "duration": null,
     "end_time": null,
     "exception": null,
     "start_time": null,
     "status": "pending"
    },
    "tags": []
   },
   "outputs": [],
   "source": [
    "data.columns"
   ]
  },
  {
   "cell_type": "code",
   "execution_count": null,
   "id": "2b0fb538",
   "metadata": {
    "execution": {
     "iopub.execute_input": "2023-08-26T17:21:08.908225Z",
     "iopub.status.busy": "2023-08-26T17:21:08.907881Z",
     "iopub.status.idle": "2023-08-26T17:21:08.935242Z",
     "shell.execute_reply": "2023-08-26T17:21:08.934074Z",
     "shell.execute_reply.started": "2023-08-26T17:21:08.908184Z"
    },
    "papermill": {
     "duration": null,
     "end_time": null,
     "exception": null,
     "start_time": null,
     "status": "pending"
    },
    "tags": []
   },
   "outputs": [],
   "source": [
    "model.predict([[619,42,2,0,0,0,0,101348.88,0,0,0]])"
   ]
  }
 ],
 "metadata": {
  "kernelspec": {
   "display_name": "Python 3",
   "language": "python",
   "name": "python3"
  },
  "language_info": {
   "codemirror_mode": {
    "name": "ipython",
    "version": 3
   },
   "file_extension": ".py",
   "mimetype": "text/x-python",
   "name": "python",
   "nbconvert_exporter": "python",
   "pygments_lexer": "ipython3",
   "version": "3.10.12"
  },
  "papermill": {
   "default_parameters": {},
   "duration": 29.918162,
   "end_time": "2023-08-26T17:27:33.533684",
   "environment_variables": {},
   "exception": true,
   "input_path": "__notebook__.ipynb",
   "output_path": "__notebook__.ipynb",
   "parameters": {},
   "start_time": "2023-08-26T17:27:03.615522",
   "version": "2.4.0"
  }
 },
 "nbformat": 4,
 "nbformat_minor": 5
}
